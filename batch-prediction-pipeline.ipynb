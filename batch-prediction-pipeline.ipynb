{
 "cells": [
  {
   "cell_type": "code",
   "execution_count": 1,
   "id": "be02aad6",
   "metadata": {},
   "outputs": [
    {
     "name": "stdout",
     "output_type": "stream",
     "text": [
      "Connected. Call `.close()` to terminate connection gracefully.\n",
      "\n",
      "Logged in to project, explore it here https://c.app.hopsworks.ai:443/p/135\n",
      "Connected. Call `.close()` to terminate connection gracefully.\n"
     ]
    }
   ],
   "source": [
    "import hopsworks\n",
    "from sklearn.neighbors import KNeighborsClassifier\n",
    "import hsfs\n",
    "import numpy as np\n",
    "import datetime\n",
    "\n",
    "project = hopsworks.login()\n",
    "fs = project.get_feature_store()"
   ]
  },
  {
   "cell_type": "code",
   "execution_count": 2,
   "id": "c93edc39",
   "metadata": {},
   "outputs": [
    {
     "name": "stdout",
     "output_type": "stream",
     "text": [
      "Connected. Call `.close()` to terminate connection gracefully.\n",
      "Downloading file ... "
     ]
    }
   ],
   "source": [
    "mr = project.get_model_registry()\n",
    "model = mr.get_model(\"cjsurf_model\", version=4)\n",
    "model_dir = model.download()"
   ]
  },
  {
   "cell_type": "code",
   "execution_count": 3,
   "id": "36c5c384",
   "metadata": {},
   "outputs": [],
   "source": [
    "import joblib\n",
    "model = joblib.load(model_dir + \"/knn_model.pkl\")"
   ]
  },
  {
   "cell_type": "code",
   "execution_count": 4,
   "id": "525b4357",
   "metadata": {},
   "outputs": [],
   "source": [
    "fv = fs.get_feature_view(\"lahinch_surf\")\n",
    "training_data_version=1\n",
    "fv.init_serving(training_data_version)"
   ]
  },
  {
   "cell_type": "code",
   "execution_count": 7,
   "id": "b735e6d4",
   "metadata": {},
   "outputs": [
    {
     "ename": "Exception",
     "evalue": "Feature beach_id is missing from vector. Please provide the required entry to retrieve it from the feature store  or provide the feature as passed_feature",
     "output_type": "error",
     "traceback": [
      "\u001b[0;31m---------------------------------------------------------------------------\u001b[0m",
      "\u001b[0;31mException\u001b[0m                                 Traceback (most recent call last)",
      "\u001b[0;32m/tmp/ipykernel_978169/648451814.py\u001b[0m in \u001b[0;36m<module>\u001b[0;34m\u001b[0m\n\u001b[1;32m      1\u001b[0m \u001b[0mkey\u001b[0m \u001b[0;34m=\u001b[0m \u001b[0;34m{\u001b[0m\u001b[0;34m\"beach_id\"\u001b[0m \u001b[0;34m:\u001b[0m \u001b[0;36m1\u001b[0m\u001b[0;34m}\u001b[0m\u001b[0;34m\u001b[0m\u001b[0;34m\u001b[0m\u001b[0m\n\u001b[0;32m----> 2\u001b[0;31m \u001b[0mvector\u001b[0m \u001b[0;34m=\u001b[0m \u001b[0mfv\u001b[0m\u001b[0;34m.\u001b[0m\u001b[0mget_feature_vector\u001b[0m\u001b[0;34m(\u001b[0m\u001b[0mkey\u001b[0m\u001b[0;34m)\u001b[0m\u001b[0;34m\u001b[0m\u001b[0;34m\u001b[0m\u001b[0m\n\u001b[0m\u001b[1;32m      3\u001b[0m \u001b[0mprint\u001b[0m\u001b[0;34m(\u001b[0m\u001b[0mvector\u001b[0m\u001b[0;34m)\u001b[0m\u001b[0;34m\u001b[0m\u001b[0;34m\u001b[0m\u001b[0m\n",
      "\u001b[0;32m~/anaconda3/lib/python3.9/site-packages/hsfs/feature_view.py\u001b[0m in \u001b[0;36mget_feature_vector\u001b[0;34m(self, entry, passed_features, external)\u001b[0m\n\u001b[1;32m    190\u001b[0m         \u001b[0;32mif\u001b[0m \u001b[0mself\u001b[0m\u001b[0;34m.\u001b[0m\u001b[0m_single_vector_server\u001b[0m \u001b[0;32mis\u001b[0m \u001b[0;32mNone\u001b[0m\u001b[0;34m:\u001b[0m\u001b[0;34m\u001b[0m\u001b[0;34m\u001b[0m\u001b[0m\n\u001b[1;32m    191\u001b[0m             \u001b[0mself\u001b[0m\u001b[0;34m.\u001b[0m\u001b[0minit_serving\u001b[0m\u001b[0;34m(\u001b[0m\u001b[0mexternal\u001b[0m\u001b[0;34m=\u001b[0m\u001b[0mexternal\u001b[0m\u001b[0;34m)\u001b[0m\u001b[0;34m\u001b[0m\u001b[0;34m\u001b[0m\u001b[0m\n\u001b[0;32m--> 192\u001b[0;31m         \u001b[0;32mreturn\u001b[0m \u001b[0mself\u001b[0m\u001b[0;34m.\u001b[0m\u001b[0m_single_vector_server\u001b[0m\u001b[0;34m.\u001b[0m\u001b[0mget_feature_vector\u001b[0m\u001b[0;34m(\u001b[0m\u001b[0mentry\u001b[0m\u001b[0;34m,\u001b[0m \u001b[0mpassed_features\u001b[0m\u001b[0;34m)\u001b[0m\u001b[0;34m\u001b[0m\u001b[0;34m\u001b[0m\u001b[0m\n\u001b[0m\u001b[1;32m    193\u001b[0m \u001b[0;34m\u001b[0m\u001b[0m\n\u001b[1;32m    194\u001b[0m     def get_feature_vectors(\n",
      "\u001b[0;32m~/anaconda3/lib/python3.9/site-packages/hsfs/core/vector_server.py\u001b[0m in \u001b[0;36mget_feature_vector\u001b[0;34m(self, entry, passed_features, preview_sample)\u001b[0m\n\u001b[1;32m    207\u001b[0m         \u001b[0mresult_dict\u001b[0m \u001b[0;34m=\u001b[0m \u001b[0mself\u001b[0m\u001b[0;34m.\u001b[0m\u001b[0m_apply_transformation\u001b[0m\u001b[0;34m(\u001b[0m\u001b[0mserving_vector\u001b[0m\u001b[0;34m)\u001b[0m\u001b[0;34m\u001b[0m\u001b[0;34m\u001b[0m\u001b[0m\n\u001b[1;32m    208\u001b[0m \u001b[0;34m\u001b[0m\u001b[0m\n\u001b[0;32m--> 209\u001b[0;31m         \u001b[0;32mreturn\u001b[0m \u001b[0mself\u001b[0m\u001b[0;34m.\u001b[0m\u001b[0m_generate_vector\u001b[0m\u001b[0;34m(\u001b[0m\u001b[0mresult_dict\u001b[0m\u001b[0;34m)\u001b[0m\u001b[0;34m\u001b[0m\u001b[0;34m\u001b[0m\u001b[0m\n\u001b[0m\u001b[1;32m    210\u001b[0m \u001b[0;34m\u001b[0m\u001b[0m\n\u001b[1;32m    211\u001b[0m     \u001b[0;32mdef\u001b[0m \u001b[0mget_feature_vectors\u001b[0m\u001b[0;34m(\u001b[0m\u001b[0mself\u001b[0m\u001b[0;34m,\u001b[0m \u001b[0mentry\u001b[0m\u001b[0;34m,\u001b[0m \u001b[0mpassed_features\u001b[0m\u001b[0;34m=\u001b[0m\u001b[0;34m[\u001b[0m\u001b[0;34m]\u001b[0m\u001b[0;34m,\u001b[0m \u001b[0mpreview_sample\u001b[0m\u001b[0;34m=\u001b[0m\u001b[0;36m0\u001b[0m\u001b[0;34m)\u001b[0m\u001b[0;34m:\u001b[0m\u001b[0;34m\u001b[0m\u001b[0;34m\u001b[0m\u001b[0m\n",
      "\u001b[0;32m~/anaconda3/lib/python3.9/site-packages/hsfs/core/vector_server.py\u001b[0m in \u001b[0;36m_generate_vector\u001b[0;34m(self, result_dict)\u001b[0m\n\u001b[1;32m    332\u001b[0m \u001b[0;34m\u001b[0m\u001b[0m\n\u001b[1;32m    333\u001b[0m             \u001b[0;32mif\u001b[0m \u001b[0mfeature\u001b[0m\u001b[0;34m.\u001b[0m\u001b[0mname\u001b[0m \u001b[0;32mnot\u001b[0m \u001b[0;32min\u001b[0m \u001b[0mresult_dict\u001b[0m\u001b[0;34m:\u001b[0m\u001b[0;34m\u001b[0m\u001b[0;34m\u001b[0m\u001b[0m\n\u001b[0;32m--> 334\u001b[0;31m                 raise Exception(\n\u001b[0m\u001b[1;32m    335\u001b[0m                     \u001b[0;34m\"Feature \"\u001b[0m\u001b[0;34m\u001b[0m\u001b[0;34m\u001b[0m\u001b[0m\n\u001b[1;32m    336\u001b[0m                     \u001b[0;34m+\u001b[0m \u001b[0mfeature\u001b[0m\u001b[0;34m.\u001b[0m\u001b[0mname\u001b[0m\u001b[0;34m\u001b[0m\u001b[0;34m\u001b[0m\u001b[0m\n",
      "\u001b[0;31mException\u001b[0m: Feature beach_id is missing from vector. Please provide the required entry to retrieve it from the feature store  or provide the feature as passed_feature"
     ]
    }
   ],
   "source": [
    "key = {\"beach_id\" : 1}\n",
    "vector = fv.get_feature_vector(key)\n",
    "print(vector)"
   ]
  },
  {
   "cell_type": "code",
   "execution_count": null,
   "id": "70bb0811",
   "metadata": {},
   "outputs": [],
   "source": [
    "feature_vectors = []\n",
    "feature_vectors.append(vector[1:4])\n",
    "for i in range(5,len(vector),4):\n",
    "    feature_vectors.append(vector[i:i+3])\n",
    "    \n",
    "dt = vector[4]"
   ]
  },
  {
   "cell_type": "code",
   "execution_count": null,
   "id": "3e198c4a",
   "metadata": {},
   "outputs": [],
   "source": [
    "row_list=[]\n",
    "columns=[\"beach_id\",\"hits_at\", \"wave_height\"]\n",
    "for i in range(0,len(feature_vectors)):\n",
    "    arr=[]\n",
    "    arr.append(feature_vectors[i])\n",
    "    res = model.predict(arr)\n",
    "    row = []\n",
    "    row.append(1) #beach_id\n",
    "    hour = datetime.timedelta(0, (1*3600*i))\n",
    "    ts = dt + hour\n",
    "    dt_str = ts.strftime(\"%m/%d/%Y, %H:%M\") #:%S\n",
    "    row.append(dt_str)\n",
    "    row.append(res[0])\n",
    "    row_list.append(row)\n",
    "\n",
    "row_list"
   ]
  },
  {
   "cell_type": "code",
   "execution_count": null,
   "id": "4fb82f4f",
   "metadata": {},
   "outputs": [],
   "source": [
    "import pandas as pd\n",
    "\n",
    "df = pd.DataFrame(row_list, columns=columns)\n",
    "\n",
    "df"
   ]
  },
  {
   "cell_type": "code",
   "execution_count": null,
   "id": "89a61ee2",
   "metadata": {},
   "outputs": [],
   "source": [
    "fs = project.get_feature_store()\n",
    "\n",
    "preds_fg = fs.get_or_create_feature_group(name=\"wave_predictions\",\n",
    "                version=1,\n",
    "                primary_key=[\"beach_id\", \"hits_at\"],\n",
    "                description=\"Lahinch surf height predictions\",\n",
    "                online_enabled=True\n",
    "                )\n",
    "preds_fg.insert(df)   "
   ]
  },
  {
   "cell_type": "code",
   "execution_count": null,
   "id": "01ab0f52",
   "metadata": {},
   "outputs": [],
   "source": []
  }
 ],
 "metadata": {
  "kernelspec": {
   "display_name": "Python 3 (ipykernel)",
   "language": "python",
   "name": "python3"
  },
  "language_info": {
   "codemirror_mode": {
    "name": "ipython",
    "version": 3
   },
   "file_extension": ".py",
   "mimetype": "text/x-python",
   "name": "python",
   "nbconvert_exporter": "python",
   "pygments_lexer": "ipython3",
   "version": "3.9.7"
  }
 },
 "nbformat": 4,
 "nbformat_minor": 5
}
