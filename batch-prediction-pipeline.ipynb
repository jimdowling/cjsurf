{
 "cells": [
  {
   "cell_type": "code",
   "execution_count": 1,
   "id": "be02aad6",
   "metadata": {},
   "outputs": [],
   "source": [
    "import hopsworks\n",
    "from sklearn.neighbors import KNeighborsClassifier\n",
    "import numpy as np\n",
    "import datetime\n",
    "import os"
   ]
  },
  {
   "cell_type": "code",
   "execution_count": null,
   "id": "a4b0347d",
   "metadata": {},
   "outputs": [],
   "source": [
    "# Uncomment this cell and fill in details if you are running your own Hopsworks cluster\n",
    "# key=\"\"\n",
    "# with open(\"api-key.txt\", \"r\") as f:\n",
    "#     key = f.read().rstrip()\n",
    "# os.environ['HOPSWORKS_PROJECT']=\"cjsurf\"\n",
    "# os.environ['HOPSWORKS_HOST']=\"35.187.178.84\"\n",
    "# os.environ['HOPSWORKS_API_KEY']=key"
   ]
  },
  {
   "cell_type": "code",
   "execution_count": 2,
   "id": "838e5e86",
   "metadata": {},
   "outputs": [
    {
     "name": "stdout",
     "output_type": "stream",
     "text": [
      "Connected. Call `.close()` to terminate connection gracefully.\n",
      "\n",
      "Logged in to project, explore it here https://c.app.hopsworks.ai:443/p/135\n",
      "Connected. Call `.close()` to terminate connection gracefully.\n"
     ]
    }
   ],
   "source": [
    "project = hopsworks.login()\n",
    "fs = project.get_feature_store()"
   ]
  },
  {
   "cell_type": "code",
   "execution_count": 3,
   "id": "c93edc39",
   "metadata": {},
   "outputs": [
    {
     "name": "stdout",
     "output_type": "stream",
     "text": [
      "Connected. Call `.close()` to terminate connection gracefully.\n",
      "Downloading file ... "
     ]
    }
   ],
   "source": [
    "mr = project.get_model_registry()\n",
    "model = mr.get_model(\"cjsurf_model\", version=1)\n",
    "model_dir = model.download()"
   ]
  },
  {
   "cell_type": "code",
   "execution_count": 4,
   "id": "36c5c384",
   "metadata": {},
   "outputs": [],
   "source": [
    "import joblib\n",
    "model = joblib.load(model_dir + \"/knn_model.pkl\")"
   ]
  },
  {
   "cell_type": "code",
   "execution_count": 5,
   "id": "525b4357",
   "metadata": {},
   "outputs": [],
   "source": [
    "fv = fs.get_feature_view(\"lahinch_surf\", version=1)\n",
    "fv.init_serving(1)"
   ]
  },
  {
   "cell_type": "code",
   "execution_count": null,
   "id": "b735e6d4",
   "metadata": {},
   "outputs": [],
   "source": [
    "key = {\"beach_id\" : 1}\n",
    "vector = fv.get_feature_vector(key)\n",
    "print(vector)"
   ]
  },
  {
   "cell_type": "code",
   "execution_count": null,
   "id": "70bb0811",
   "metadata": {},
   "outputs": [],
   "source": [
    "feature_vectors = []\n",
    "# Remove the 'pred_dtime' column\n",
    "feature_vectors.append(vector[0:3])\n",
    "for i in range(4,len(vector),4):\n",
    "    feature_vectors.append(vector[i:i+3])\n",
    "# 'pred_dtime'\n",
    "dt = vector[3]\n",
    "feature_vectors"
   ]
  },
  {
   "cell_type": "code",
   "execution_count": null,
   "id": "3e198c4a",
   "metadata": {},
   "outputs": [],
   "source": [
    "row_list=[]\n",
    "columns=[\"beach_id\",\"hits_at\", \"wave_height\"]\n",
    "for i in range(0,len(feature_vectors)):\n",
    "    arr=[]\n",
    "    arr.append(feature_vectors[i])\n",
    "    res = model.predict(arr)\n",
    "    row = []\n",
    "    row.append(1) #beach_id\n",
    "    hour = datetime.timedelta(0, (1*3600*i))\n",
    "    ts = dt + hour\n",
    "    dt_str = ts.strftime(\"%Y-%m-%d %H:%M\") #:%S\n",
    "    row.append(dt_str)\n",
    "    row.append(res[0])\n",
    "    row_list.append(row)\n",
    "\n",
    "row_list"
   ]
  },
  {
   "cell_type": "code",
   "execution_count": null,
   "id": "4fb82f4f",
   "metadata": {},
   "outputs": [],
   "source": [
    "import pandas as pd\n",
    "\n",
    "df = pd.DataFrame(row_list, columns=columns)\n",
    "\n",
    "df.info()"
   ]
  },
  {
   "cell_type": "code",
   "execution_count": null,
   "id": "89a61ee2",
   "metadata": {},
   "outputs": [],
   "source": [
    "fs = project.get_feature_store()\n",
    "\n",
    "preds_fg = fs.get_or_create_feature_group(name=\"wave_predictions\",\n",
    "                version=1,\n",
    "                primary_key=[\"beach_id\", \"hits_at\"],\n",
    "                description=\"Lahinch surf height predictions\",\n",
    "                online_enabled=True\n",
    "                )\n",
    "preds_fg.insert(df)   "
   ]
  },
  {
   "cell_type": "code",
   "execution_count": null,
   "id": "01ab0f52",
   "metadata": {},
   "outputs": [],
   "source": [
    "import plotly.express as px\n",
    "fig = px.line(df, x = \"hits_at\", y = \"wave_height\", markers=True, \n",
    "              title = \"Wave Heights at Lahinch\")\n",
    "fig.update_layout(\n",
    "#    showlegend=False,\n",
    "    plot_bgcolor=\"white\",\n",
    "    margin=dict(t=50,l=10,b=10,r=10)\n",
    ")\n",
    "\n",
    "# fig.update_layout(\n",
    "#     xaxis_tickformat = '%y/%m/%y<br>%Y'\n",
    "# )\n",
    "\n",
    "#fig.update_xaxes(minor=dict(ticklen=6, tickcolor=\"black\", showgrid=True))\n",
    "#fig.update_yaxes(showgrid=False)\n",
    "#fig.update_xaxes(showgrid=False)\n",
    "fig.update_xaxes(dtick=12)\n",
    "fig.show()\n",
    "#fig.show(config=dict(displayModeBar=False))"
   ]
  },
  {
   "cell_type": "code",
   "execution_count": null,
   "id": "7ac2cf6d",
   "metadata": {},
   "outputs": [],
   "source": [
    "filename=\"latest_lahinch.png\"\n",
    "fig.write_image(file=filename, format=\"png\", width=1920, height=1280)\n",
    "dataset_api = project.get_dataset_api()\n",
    "uploaded_file_path = dataset_api.upload(filename, \"Resources\", overwrite=True)\n",
    "\n",
    "# update images with predictions of previous week and outcomes"
   ]
  },
  {
   "cell_type": "code",
   "execution_count": null,
   "id": "39b36a1c",
   "metadata": {},
   "outputs": [],
   "source": []
  },
  {
   "cell_type": "code",
   "execution_count": null,
   "id": "e81c47a2",
   "metadata": {},
   "outputs": [],
   "source": []
  }
 ],
 "metadata": {
  "kernelspec": {
   "display_name": "Python 3 (ipykernel)",
   "language": "python",
   "name": "python3"
  },
  "language_info": {
   "codemirror_mode": {
    "name": "ipython",
    "version": 3
   },
   "file_extension": ".py",
   "mimetype": "text/x-python",
   "name": "python",
   "nbconvert_exporter": "python",
   "pygments_lexer": "ipython3",
   "version": "3.9.7"
  }
 },
 "nbformat": 4,
 "nbformat_minor": 5
}
