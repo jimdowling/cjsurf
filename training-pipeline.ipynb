{
 "cells": [
  {
   "cell_type": "code",
   "execution_count": 1,
   "id": "be02aad6",
   "metadata": {},
   "outputs": [],
   "source": [
    "import hopsworks\n",
    "from sklearn.neighbors import KNeighborsClassifier\n",
    "import hsfs\n",
    "import numpy as np\n",
    "import joblib\n",
    "import os"
   ]
  },
  {
   "cell_type": "code",
   "execution_count": 2,
   "id": "2c69ded2",
   "metadata": {},
   "outputs": [],
   "source": [
    "# Uncomment this cell and fill in details if you are running your own Hopsworks cluster\n",
    "#!echo \"xxxx\" > api-key.txt\n",
    "# key=\"\"\n",
    "# with open(\"api-key.txt\", \"r\") as f:\n",
    "#     key = f.read().rstrip()\n",
    "# os.environ['HOPSWORKS_PROJECT']=\"cjsurf\"\n",
    "# os.environ['HOPSWORKS_HOST']=\"35.187.178.84\"\n",
    "# os.environ['HOPSWORKS_API_KEY']=key"
   ]
  },
  {
   "cell_type": "code",
   "execution_count": 3,
   "id": "bf7034be",
   "metadata": {},
   "outputs": [
    {
     "name": "stdout",
     "output_type": "stream",
     "text": [
      "Connected. Call `.close()` to terminate connection gracefully.\n",
      "\n",
      "Logged in to project, explore it here https://c.app.hopsworks.ai:443/p/135\n",
      "Connected. Call `.close()` to terminate connection gracefully.\n"
     ]
    }
   ],
   "source": [
    "project = hopsworks.login()\n",
    "fs = project.get_feature_store()"
   ]
  },
  {
   "cell_type": "code",
   "execution_count": 4,
   "id": "525b4357",
   "metadata": {},
   "outputs": [],
   "source": [
    "hours=119\n",
    "\n",
    "standard_scaler = fs.get_transformation_function(name=\"standard_scaler\")\n",
    "\n",
    "transformation_functions = {\n",
    "    \"height\": standard_scaler,\n",
    "    \"period\": standard_scaler,\n",
    "    \"direction\": standard_scaler,\n",
    "}\n",
    "for i in range(1,hours):\n",
    "    transformation_functions[\"height\" + str(i)]=standard_scaler\n",
    "    transformation_functions[\"period\" + str(i)]=standard_scaler\n",
    "    transformation_functions[\"direction\" + str(i)]=standard_scaler    "
   ]
  },
  {
   "cell_type": "code",
   "execution_count": 5,
   "id": "29e2b11a",
   "metadata": {},
   "outputs": [],
   "source": [
    "lahinch_fg = fs.get_feature_group(\"lahinch\", version=2)\n",
    "swells_fg = fs.get_feature_group(\"swells_exploded\", version=5)\n",
    "query = lahinch_fg.select(['wave_height']).join(\n",
    "    swells_fg.select_except(['beach_id'])) "
   ]
  },
  {
   "cell_type": "code",
   "execution_count": 6,
   "id": "0e467395",
   "metadata": {},
   "outputs": [
    {
     "name": "stdout",
     "output_type": "stream",
     "text": [
      "Feature view created successfully, explore it at \n",
      "https://c.app.hopsworks.ai:443/p/135/fs/81/fv/lahinch_surf/version/1\n"
     ]
    }
   ],
   "source": [
    "version=1\n",
    "try: \n",
    "    fv = fs.get_feature_view(\"lahinch_surf\", version=version)\n",
    "except:\n",
    "    fv = fs.create_feature_view(name='lahinch_surf', \n",
    "                            description=\"Lahinch surf height prediction features\",\n",
    "                            version=version,\n",
    "                            labels=[\"wave_height\"],\n",
    "                            query=query)"
   ]
  },
  {
   "cell_type": "code",
   "execution_count": 7,
   "id": "d23b1202",
   "metadata": {
    "scrolled": true
   },
   "outputs": [
    {
     "name": "stdout",
     "output_type": "stream",
     "text": [
      "2022-07-01 23:20:53,088 INFO: USE `cjsurf_featurestore`\n",
      "2022-07-01 23:20:54,002 INFO: WITH right_fg0 AS (SELECT *\n",
      "FROM (SELECT `fg1`.`wave_height` `wave_height`, `fg1`.`beach_id` `join_pk_beach_id`, `fg1`.`observation_time` `join_evt_observation_time`, `fg0`.`height` `height`, `fg0`.`period` `period`, `fg0`.`direction` `direction`, `fg0`.`pred_dtime` `pred_dtime`, `fg0`.`height1` `height1`, `fg0`.`period1` `period1`, `fg0`.`direction1` `direction1`, `fg0`.`hits_at1` `hits_at1`, `fg0`.`height2` `height2`, `fg0`.`period2` `period2`, `fg0`.`direction2` `direction2`, `fg0`.`hits_at2` `hits_at2`, `fg0`.`height3` `height3`, `fg0`.`period3` `period3`, `fg0`.`direction3` `direction3`, `fg0`.`hits_at3` `hits_at3`, `fg0`.`height4` `height4`, `fg0`.`period4` `period4`, `fg0`.`direction4` `direction4`, `fg0`.`hits_at4` `hits_at4`, `fg0`.`height5` `height5`, `fg0`.`period5` `period5`, `fg0`.`direction5` `direction5`, `fg0`.`hits_at5` `hits_at5`, `fg0`.`height6` `height6`, `fg0`.`period6` `period6`, `fg0`.`direction6` `direction6`, `fg0`.`hits_at6` `hits_at6`, `fg0`.`height7` `height7`, `fg0`.`period7` `period7`, `fg0`.`direction7` `direction7`, `fg0`.`hits_at7` `hits_at7`, `fg0`.`height8` `height8`, `fg0`.`period8` `period8`, `fg0`.`direction8` `direction8`, `fg0`.`hits_at8` `hits_at8`, `fg0`.`height9` `height9`, `fg0`.`period9` `period9`, `fg0`.`direction9` `direction9`, `fg0`.`hits_at9` `hits_at9`, `fg0`.`height10` `height10`, `fg0`.`period10` `period10`, `fg0`.`direction10` `direction10`, `fg0`.`hits_at10` `hits_at10`, `fg0`.`height11` `height11`, `fg0`.`period11` `period11`, `fg0`.`direction11` `direction11`, `fg0`.`hits_at11` `hits_at11`, `fg0`.`height12` `height12`, `fg0`.`period12` `period12`, `fg0`.`direction12` `direction12`, `fg0`.`hits_at12` `hits_at12`, `fg0`.`height13` `height13`, `fg0`.`period13` `period13`, `fg0`.`direction13` `direction13`, `fg0`.`hits_at13` `hits_at13`, `fg0`.`height14` `height14`, `fg0`.`period14` `period14`, `fg0`.`direction14` `direction14`, `fg0`.`hits_at14` `hits_at14`, `fg0`.`height15` `height15`, `fg0`.`period15` `period15`, `fg0`.`direction15` `direction15`, `fg0`.`hits_at15` `hits_at15`, `fg0`.`height16` `height16`, `fg0`.`period16` `period16`, `fg0`.`direction16` `direction16`, `fg0`.`hits_at16` `hits_at16`, `fg0`.`height17` `height17`, `fg0`.`period17` `period17`, `fg0`.`direction17` `direction17`, `fg0`.`hits_at17` `hits_at17`, `fg0`.`height18` `height18`, `fg0`.`period18` `period18`, `fg0`.`direction18` `direction18`, `fg0`.`hits_at18` `hits_at18`, `fg0`.`height19` `height19`, `fg0`.`period19` `period19`, `fg0`.`direction19` `direction19`, `fg0`.`hits_at19` `hits_at19`, `fg0`.`height20` `height20`, `fg0`.`period20` `period20`, `fg0`.`direction20` `direction20`, `fg0`.`hits_at20` `hits_at20`, `fg0`.`height21` `height21`, `fg0`.`period21` `period21`, `fg0`.`direction21` `direction21`, `fg0`.`hits_at21` `hits_at21`, `fg0`.`height22` `height22`, `fg0`.`period22` `period22`, `fg0`.`direction22` `direction22`, `fg0`.`hits_at22` `hits_at22`, `fg0`.`height23` `height23`, `fg0`.`period23` `period23`, `fg0`.`direction23` `direction23`, `fg0`.`hits_at23` `hits_at23`, `fg0`.`height24` `height24`, `fg0`.`period24` `period24`, `fg0`.`direction24` `direction24`, `fg0`.`hits_at24` `hits_at24`, `fg0`.`height25` `height25`, `fg0`.`period25` `period25`, `fg0`.`direction25` `direction25`, `fg0`.`hits_at25` `hits_at25`, `fg0`.`height26` `height26`, `fg0`.`period26` `period26`, `fg0`.`direction26` `direction26`, `fg0`.`hits_at26` `hits_at26`, `fg0`.`height27` `height27`, `fg0`.`period27` `period27`, `fg0`.`direction27` `direction27`, `fg0`.`hits_at27` `hits_at27`, `fg0`.`height28` `height28`, `fg0`.`period28` `period28`, `fg0`.`direction28` `direction28`, `fg0`.`hits_at28` `hits_at28`, `fg0`.`height29` `height29`, `fg0`.`period29` `period29`, `fg0`.`direction29` `direction29`, `fg0`.`hits_at29` `hits_at29`, `fg0`.`height30` `height30`, `fg0`.`period30` `period30`, `fg0`.`direction30` `direction30`, `fg0`.`hits_at30` `hits_at30`, `fg0`.`height31` `height31`, `fg0`.`period31` `period31`, `fg0`.`direction31` `direction31`, `fg0`.`hits_at31` `hits_at31`, `fg0`.`height32` `height32`, `fg0`.`period32` `period32`, `fg0`.`direction32` `direction32`, `fg0`.`hits_at32` `hits_at32`, `fg0`.`height33` `height33`, `fg0`.`period33` `period33`, `fg0`.`direction33` `direction33`, `fg0`.`hits_at33` `hits_at33`, `fg0`.`height34` `height34`, `fg0`.`period34` `period34`, `fg0`.`direction34` `direction34`, `fg0`.`hits_at34` `hits_at34`, `fg0`.`height35` `height35`, `fg0`.`period35` `period35`, `fg0`.`direction35` `direction35`, `fg0`.`hits_at35` `hits_at35`, `fg0`.`height36` `height36`, `fg0`.`period36` `period36`, `fg0`.`direction36` `direction36`, `fg0`.`hits_at36` `hits_at36`, `fg0`.`height37` `height37`, `fg0`.`period37` `period37`, `fg0`.`direction37` `direction37`, `fg0`.`hits_at37` `hits_at37`, `fg0`.`height38` `height38`, `fg0`.`period38` `period38`, `fg0`.`direction38` `direction38`, `fg0`.`hits_at38` `hits_at38`, `fg0`.`height39` `height39`, `fg0`.`period39` `period39`, `fg0`.`direction39` `direction39`, `fg0`.`hits_at39` `hits_at39`, `fg0`.`height40` `height40`, `fg0`.`period40` `period40`, `fg0`.`direction40` `direction40`, `fg0`.`hits_at40` `hits_at40`, `fg0`.`height41` `height41`, `fg0`.`period41` `period41`, `fg0`.`direction41` `direction41`, `fg0`.`hits_at41` `hits_at41`, `fg0`.`height42` `height42`, `fg0`.`period42` `period42`, `fg0`.`direction42` `direction42`, `fg0`.`hits_at42` `hits_at42`, `fg0`.`height43` `height43`, `fg0`.`period43` `period43`, `fg0`.`direction43` `direction43`, `fg0`.`hits_at43` `hits_at43`, `fg0`.`height44` `height44`, `fg0`.`period44` `period44`, `fg0`.`direction44` `direction44`, `fg0`.`hits_at44` `hits_at44`, `fg0`.`height45` `height45`, `fg0`.`period45` `period45`, `fg0`.`direction45` `direction45`, `fg0`.`hits_at45` `hits_at45`, `fg0`.`height46` `height46`, `fg0`.`period46` `period46`, `fg0`.`direction46` `direction46`, `fg0`.`hits_at46` `hits_at46`, `fg0`.`height47` `height47`, `fg0`.`period47` `period47`, `fg0`.`direction47` `direction47`, `fg0`.`hits_at47` `hits_at47`, `fg0`.`height48` `height48`, `fg0`.`period48` `period48`, `fg0`.`direction48` `direction48`, `fg0`.`hits_at48` `hits_at48`, `fg0`.`height49` `height49`, `fg0`.`period49` `period49`, `fg0`.`direction49` `direction49`, `fg0`.`hits_at49` `hits_at49`, `fg0`.`height50` `height50`, `fg0`.`period50` `period50`, `fg0`.`direction50` `direction50`, `fg0`.`hits_at50` `hits_at50`, `fg0`.`height51` `height51`, `fg0`.`period51` `period51`, `fg0`.`direction51` `direction51`, `fg0`.`hits_at51` `hits_at51`, `fg0`.`height52` `height52`, `fg0`.`period52` `period52`, `fg0`.`direction52` `direction52`, `fg0`.`hits_at52` `hits_at52`, `fg0`.`height53` `height53`, `fg0`.`period53` `period53`, `fg0`.`direction53` `direction53`, `fg0`.`hits_at53` `hits_at53`, `fg0`.`height54` `height54`, `fg0`.`period54` `period54`, `fg0`.`direction54` `direction54`, `fg0`.`hits_at54` `hits_at54`, `fg0`.`height55` `height55`, `fg0`.`period55` `period55`, `fg0`.`direction55` `direction55`, `fg0`.`hits_at55` `hits_at55`, `fg0`.`height56` `height56`, `fg0`.`period56` `period56`, `fg0`.`direction56` `direction56`, `fg0`.`hits_at56` `hits_at56`, `fg0`.`height57` `height57`, `fg0`.`period57` `period57`, `fg0`.`direction57` `direction57`, `fg0`.`hits_at57` `hits_at57`, `fg0`.`height58` `height58`, `fg0`.`period58` `period58`, `fg0`.`direction58` `direction58`, `fg0`.`hits_at58` `hits_at58`, `fg0`.`height59` `height59`, `fg0`.`period59` `period59`, `fg0`.`direction59` `direction59`, `fg0`.`hits_at59` `hits_at59`, `fg0`.`height60` `height60`, `fg0`.`period60` `period60`, `fg0`.`direction60` `direction60`, `fg0`.`hits_at60` `hits_at60`, `fg0`.`height61` `height61`, `fg0`.`period61` `period61`, `fg0`.`direction61` `direction61`, `fg0`.`hits_at61` `hits_at61`, `fg0`.`height62` `height62`, `fg0`.`period62` `period62`, `fg0`.`direction62` `direction62`, `fg0`.`hits_at62` `hits_at62`, `fg0`.`height63` `height63`, `fg0`.`period63` `period63`, `fg0`.`direction63` `direction63`, `fg0`.`hits_at63` `hits_at63`, `fg0`.`height64` `height64`, `fg0`.`period64` `period64`, `fg0`.`direction64` `direction64`, `fg0`.`hits_at64` `hits_at64`, `fg0`.`height65` `height65`, `fg0`.`period65` `period65`, `fg0`.`direction65` `direction65`, `fg0`.`hits_at65` `hits_at65`, `fg0`.`height66` `height66`, `fg0`.`period66` `period66`, `fg0`.`direction66` `direction66`, `fg0`.`hits_at66` `hits_at66`, `fg0`.`height67` `height67`, `fg0`.`period67` `period67`, `fg0`.`direction67` `direction67`, `fg0`.`hits_at67` `hits_at67`, `fg0`.`height68` `height68`, `fg0`.`period68` `period68`, `fg0`.`direction68` `direction68`, `fg0`.`hits_at68` `hits_at68`, `fg0`.`height69` `height69`, `fg0`.`period69` `period69`, `fg0`.`direction69` `direction69`, `fg0`.`hits_at69` `hits_at69`, `fg0`.`height70` `height70`, `fg0`.`period70` `period70`, `fg0`.`direction70` `direction70`, `fg0`.`hits_at70` `hits_at70`, `fg0`.`height71` `height71`, `fg0`.`period71` `period71`, `fg0`.`direction71` `direction71`, `fg0`.`hits_at71` `hits_at71`, `fg0`.`height72` `height72`, `fg0`.`period72` `period72`, `fg0`.`direction72` `direction72`, `fg0`.`hits_at72` `hits_at72`, `fg0`.`height73` `height73`, `fg0`.`period73` `period73`, `fg0`.`direction73` `direction73`, `fg0`.`hits_at73` `hits_at73`, `fg0`.`height74` `height74`, `fg0`.`period74` `period74`, `fg0`.`direction74` `direction74`, `fg0`.`hits_at74` `hits_at74`, `fg0`.`height75` `height75`, `fg0`.`period75` `period75`, `fg0`.`direction75` `direction75`, `fg0`.`hits_at75` `hits_at75`, `fg0`.`height76` `height76`, `fg0`.`period76` `period76`, `fg0`.`direction76` `direction76`, `fg0`.`hits_at76` `hits_at76`, `fg0`.`height77` `height77`, `fg0`.`period77` `period77`, `fg0`.`direction77` `direction77`, `fg0`.`hits_at77` `hits_at77`, `fg0`.`height78` `height78`, `fg0`.`period78` `period78`, `fg0`.`direction78` `direction78`, `fg0`.`hits_at78` `hits_at78`, `fg0`.`height79` `height79`, `fg0`.`period79` `period79`, `fg0`.`direction79` `direction79`, `fg0`.`hits_at79` `hits_at79`, `fg0`.`height80` `height80`, `fg0`.`period80` `period80`, `fg0`.`direction80` `direction80`, `fg0`.`hits_at80` `hits_at80`, `fg0`.`height81` `height81`, `fg0`.`period81` `period81`, `fg0`.`direction81` `direction81`, `fg0`.`hits_at81` `hits_at81`, `fg0`.`height82` `height82`, `fg0`.`period82` `period82`, `fg0`.`direction82` `direction82`, `fg0`.`hits_at82` `hits_at82`, `fg0`.`height83` `height83`, `fg0`.`period83` `period83`, `fg0`.`direction83` `direction83`, `fg0`.`hits_at83` `hits_at83`, `fg0`.`height84` `height84`, `fg0`.`period84` `period84`, `fg0`.`direction84` `direction84`, `fg0`.`hits_at84` `hits_at84`, `fg0`.`height85` `height85`, `fg0`.`period85` `period85`, `fg0`.`direction85` `direction85`, `fg0`.`hits_at85` `hits_at85`, `fg0`.`height86` `height86`, `fg0`.`period86` `period86`, `fg0`.`direction86` `direction86`, `fg0`.`hits_at86` `hits_at86`, `fg0`.`height87` `height87`, `fg0`.`period87` `period87`, `fg0`.`direction87` `direction87`, `fg0`.`hits_at87` `hits_at87`, `fg0`.`height88` `height88`, `fg0`.`period88` `period88`, `fg0`.`direction88` `direction88`, `fg0`.`hits_at88` `hits_at88`, `fg0`.`height89` `height89`, `fg0`.`period89` `period89`, `fg0`.`direction89` `direction89`, `fg0`.`hits_at89` `hits_at89`, `fg0`.`height90` `height90`, `fg0`.`period90` `period90`, `fg0`.`direction90` `direction90`, `fg0`.`hits_at90` `hits_at90`, `fg0`.`height91` `height91`, `fg0`.`period91` `period91`, `fg0`.`direction91` `direction91`, `fg0`.`hits_at91` `hits_at91`, `fg0`.`height92` `height92`, `fg0`.`period92` `period92`, `fg0`.`direction92` `direction92`, `fg0`.`hits_at92` `hits_at92`, `fg0`.`height93` `height93`, `fg0`.`period93` `period93`, `fg0`.`direction93` `direction93`, `fg0`.`hits_at93` `hits_at93`, `fg0`.`height94` `height94`, `fg0`.`period94` `period94`, `fg0`.`direction94` `direction94`, `fg0`.`hits_at94` `hits_at94`, `fg0`.`height95` `height95`, `fg0`.`period95` `period95`, `fg0`.`direction95` `direction95`, `fg0`.`hits_at95` `hits_at95`, `fg0`.`height96` `height96`, `fg0`.`period96` `period96`, `fg0`.`direction96` `direction96`, `fg0`.`hits_at96` `hits_at96`, `fg0`.`height97` `height97`, `fg0`.`period97` `period97`, `fg0`.`direction97` `direction97`, `fg0`.`hits_at97` `hits_at97`, `fg0`.`height98` `height98`, `fg0`.`period98` `period98`, `fg0`.`direction98` `direction98`, `fg0`.`hits_at98` `hits_at98`, `fg0`.`height99` `height99`, `fg0`.`period99` `period99`, `fg0`.`direction99` `direction99`, `fg0`.`hits_at99` `hits_at99`, `fg0`.`height100` `height100`, `fg0`.`period100` `period100`, `fg0`.`direction100` `direction100`, `fg0`.`hits_at100` `hits_at100`, `fg0`.`height101` `height101`, `fg0`.`period101` `period101`, `fg0`.`direction101` `direction101`, `fg0`.`hits_at101` `hits_at101`, `fg0`.`height102` `height102`, `fg0`.`period102` `period102`, `fg0`.`direction102` `direction102`, `fg0`.`hits_at102` `hits_at102`, `fg0`.`height103` `height103`, `fg0`.`period103` `period103`, `fg0`.`direction103` `direction103`, `fg0`.`hits_at103` `hits_at103`, `fg0`.`height104` `height104`, `fg0`.`period104` `period104`, `fg0`.`direction104` `direction104`, `fg0`.`hits_at104` `hits_at104`, `fg0`.`height105` `height105`, `fg0`.`period105` `period105`, `fg0`.`direction105` `direction105`, `fg0`.`hits_at105` `hits_at105`, `fg0`.`height106` `height106`, `fg0`.`period106` `period106`, `fg0`.`direction106` `direction106`, `fg0`.`hits_at106` `hits_at106`, `fg0`.`height107` `height107`, `fg0`.`period107` `period107`, `fg0`.`direction107` `direction107`, `fg0`.`hits_at107` `hits_at107`, `fg0`.`height108` `height108`, `fg0`.`period108` `period108`, `fg0`.`direction108` `direction108`, `fg0`.`hits_at108` `hits_at108`, `fg0`.`height109` `height109`, `fg0`.`period109` `period109`, `fg0`.`direction109` `direction109`, `fg0`.`hits_at109` `hits_at109`, `fg0`.`height110` `height110`, `fg0`.`period110` `period110`, `fg0`.`direction110` `direction110`, `fg0`.`hits_at110` `hits_at110`, `fg0`.`height111` `height111`, `fg0`.`period111` `period111`, `fg0`.`direction111` `direction111`, `fg0`.`hits_at111` `hits_at111`, `fg0`.`height112` `height112`, `fg0`.`period112` `period112`, `fg0`.`direction112` `direction112`, `fg0`.`hits_at112` `hits_at112`, `fg0`.`height113` `height113`, `fg0`.`period113` `period113`, `fg0`.`direction113` `direction113`, `fg0`.`hits_at113` `hits_at113`, `fg0`.`height114` `height114`, `fg0`.`period114` `period114`, `fg0`.`direction114` `direction114`, `fg0`.`hits_at114` `hits_at114`, `fg0`.`height115` `height115`, `fg0`.`period115` `period115`, `fg0`.`direction115` `direction115`, `fg0`.`hits_at115` `hits_at115`, `fg0`.`height116` `height116`, `fg0`.`period116` `period116`, `fg0`.`direction116` `direction116`, `fg0`.`hits_at116` `hits_at116`, `fg0`.`height117` `height117`, `fg0`.`period117` `period117`, `fg0`.`direction117` `direction117`, `fg0`.`hits_at117` `hits_at117`, `fg0`.`height118` `height118`, `fg0`.`period118` `period118`, `fg0`.`direction118` `direction118`, `fg0`.`hits_at118` `hits_at118`, RANK() OVER (PARTITION BY `fg1`.`beach_id`, `fg1`.`observation_time` ORDER BY `fg0`.`hits_at` DESC) pit_rank_hopsworks\n",
      "FROM `cjsurf_featurestore`.`lahinch_2` `fg1`\n",
      "INNER JOIN `cjsurf_featurestore`.`swells_exploded_5` `fg0` ON `fg1`.`beach_id` = `fg0`.`beach_id` AND `fg1`.`observation_time` >= `fg0`.`hits_at`) NA\n",
      "WHERE `pit_rank_hopsworks` = 1) (SELECT `right_fg0`.`wave_height` `wave_height`, `right_fg0`.`height` `height`, `right_fg0`.`period` `period`, `right_fg0`.`direction` `direction`, `right_fg0`.`pred_dtime` `pred_dtime`, `right_fg0`.`height1` `height1`, `right_fg0`.`period1` `period1`, `right_fg0`.`direction1` `direction1`, `right_fg0`.`hits_at1` `hits_at1`, `right_fg0`.`height2` `height2`, `right_fg0`.`period2` `period2`, `right_fg0`.`direction2` `direction2`, `right_fg0`.`hits_at2` `hits_at2`, `right_fg0`.`height3` `height3`, `right_fg0`.`period3` `period3`, `right_fg0`.`direction3` `direction3`, `right_fg0`.`hits_at3` `hits_at3`, `right_fg0`.`height4` `height4`, `right_fg0`.`period4` `period4`, `right_fg0`.`direction4` `direction4`, `right_fg0`.`hits_at4` `hits_at4`, `right_fg0`.`height5` `height5`, `right_fg0`.`period5` `period5`, `right_fg0`.`direction5` `direction5`, `right_fg0`.`hits_at5` `hits_at5`, `right_fg0`.`height6` `height6`, `right_fg0`.`period6` `period6`, `right_fg0`.`direction6` `direction6`, `right_fg0`.`hits_at6` `hits_at6`, `right_fg0`.`height7` `height7`, `right_fg0`.`period7` `period7`, `right_fg0`.`direction7` `direction7`, `right_fg0`.`hits_at7` `hits_at7`, `right_fg0`.`height8` `height8`, `right_fg0`.`period8` `period8`, `right_fg0`.`direction8` `direction8`, `right_fg0`.`hits_at8` `hits_at8`, `right_fg0`.`height9` `height9`, `right_fg0`.`period9` `period9`, `right_fg0`.`direction9` `direction9`, `right_fg0`.`hits_at9` `hits_at9`, `right_fg0`.`height10` `height10`, `right_fg0`.`period10` `period10`, `right_fg0`.`direction10` `direction10`, `right_fg0`.`hits_at10` `hits_at10`, `right_fg0`.`height11` `height11`, `right_fg0`.`period11` `period11`, `right_fg0`.`direction11` `direction11`, `right_fg0`.`hits_at11` `hits_at11`, `right_fg0`.`height12` `height12`, `right_fg0`.`period12` `period12`, `right_fg0`.`direction12` `direction12`, `right_fg0`.`hits_at12` `hits_at12`, `right_fg0`.`height13` `height13`, `right_fg0`.`period13` `period13`, `right_fg0`.`direction13` `direction13`, `right_fg0`.`hits_at13` `hits_at13`, `right_fg0`.`height14` `height14`, `right_fg0`.`period14` `period14`, `right_fg0`.`direction14` `direction14`, `right_fg0`.`hits_at14` `hits_at14`, `right_fg0`.`height15` `height15`, `right_fg0`.`period15` `period15`, `right_fg0`.`direction15` `direction15`, `right_fg0`.`hits_at15` `hits_at15`, `right_fg0`.`height16` `height16`, `right_fg0`.`period16` `period16`, `right_fg0`.`direction16` `direction16`, `right_fg0`.`hits_at16` `hits_at16`, `right_fg0`.`height17` `height17`, `right_fg0`.`period17` `period17`, `right_fg0`.`direction17` `direction17`, `right_fg0`.`hits_at17` `hits_at17`, `right_fg0`.`height18` `height18`, `right_fg0`.`period18` `period18`, `right_fg0`.`direction18` `direction18`, `right_fg0`.`hits_at18` `hits_at18`, `right_fg0`.`height19` `height19`, `right_fg0`.`period19` `period19`, `right_fg0`.`direction19` `direction19`, `right_fg0`.`hits_at19` `hits_at19`, `right_fg0`.`height20` `height20`, `right_fg0`.`period20` `period20`, `right_fg0`.`direction20` `direction20`, `right_fg0`.`hits_at20` `hits_at20`, `right_fg0`.`height21` `height21`, `right_fg0`.`period21` `period21`, `right_fg0`.`direction21` `direction21`, `right_fg0`.`hits_at21` `hits_at21`, `right_fg0`.`height22` `height22`, `right_fg0`.`period22` `period22`, `right_fg0`.`direction22` `direction22`, `right_fg0`.`hits_at22` `hits_at22`, `right_fg0`.`height23` `height23`, `right_fg0`.`period23` `period23`, `right_fg0`.`direction23` `direction23`, `right_fg0`.`hits_at23` `hits_at23`, `right_fg0`.`height24` `height24`, `right_fg0`.`period24` `period24`, `right_fg0`.`direction24` `direction24`, `right_fg0`.`hits_at24` `hits_at24`, `right_fg0`.`height25` `height25`, `right_fg0`.`period25` `period25`, `right_fg0`.`direction25` `direction25`, `right_fg0`.`hits_at25` `hits_at25`, `right_fg0`.`height26` `height26`, `right_fg0`.`period26` `period26`, `right_fg0`.`direction26` `direction26`, `right_fg0`.`hits_at26` `hits_at26`, `right_fg0`.`height27` `height27`, `right_fg0`.`period27` `period27`, `right_fg0`.`direction27` `direction27`, `right_fg0`.`hits_at27` `hits_at27`, `right_fg0`.`height28` `height28`, `right_fg0`.`period28` `period28`, `right_fg0`.`direction28` `direction28`, `right_fg0`.`hits_at28` `hits_at28`, `right_fg0`.`height29` `height29`, `right_fg0`.`period29` `period29`, `right_fg0`.`direction29` `direction29`, `right_fg0`.`hits_at29` `hits_at29`, `right_fg0`.`height30` `height30`, `right_fg0`.`period30` `period30`, `right_fg0`.`direction30` `direction30`, `right_fg0`.`hits_at30` `hits_at30`, `right_fg0`.`height31` `height31`, `right_fg0`.`period31` `period31`, `right_fg0`.`direction31` `direction31`, `right_fg0`.`hits_at31` `hits_at31`, `right_fg0`.`height32` `height32`, `right_fg0`.`period32` `period32`, `right_fg0`.`direction32` `direction32`, `right_fg0`.`hits_at32` `hits_at32`, `right_fg0`.`height33` `height33`, `right_fg0`.`period33` `period33`, `right_fg0`.`direction33` `direction33`, `right_fg0`.`hits_at33` `hits_at33`, `right_fg0`.`height34` `height34`, `right_fg0`.`period34` `period34`, `right_fg0`.`direction34` `direction34`, `right_fg0`.`hits_at34` `hits_at34`, `right_fg0`.`height35` `height35`, `right_fg0`.`period35` `period35`, `right_fg0`.`direction35` `direction35`, `right_fg0`.`hits_at35` `hits_at35`, `right_fg0`.`height36` `height36`, `right_fg0`.`period36` `period36`, `right_fg0`.`direction36` `direction36`, `right_fg0`.`hits_at36` `hits_at36`, `right_fg0`.`height37` `height37`, `right_fg0`.`period37` `period37`, `right_fg0`.`direction37` `direction37`, `right_fg0`.`hits_at37` `hits_at37`, `right_fg0`.`height38` `height38`, `right_fg0`.`period38` `period38`, `right_fg0`.`direction38` `direction38`, `right_fg0`.`hits_at38` `hits_at38`, `right_fg0`.`height39` `height39`, `right_fg0`.`period39` `period39`, `right_fg0`.`direction39` `direction39`, `right_fg0`.`hits_at39` `hits_at39`, `right_fg0`.`height40` `height40`, `right_fg0`.`period40` `period40`, `right_fg0`.`direction40` `direction40`, `right_fg0`.`hits_at40` `hits_at40`, `right_fg0`.`height41` `height41`, `right_fg0`.`period41` `period41`, `right_fg0`.`direction41` `direction41`, `right_fg0`.`hits_at41` `hits_at41`, `right_fg0`.`height42` `height42`, `right_fg0`.`period42` `period42`, `right_fg0`.`direction42` `direction42`, `right_fg0`.`hits_at42` `hits_at42`, `right_fg0`.`height43` `height43`, `right_fg0`.`period43` `period43`, `right_fg0`.`direction43` `direction43`, `right_fg0`.`hits_at43` `hits_at43`, `right_fg0`.`height44` `height44`, `right_fg0`.`period44` `period44`, `right_fg0`.`direction44` `direction44`, `right_fg0`.`hits_at44` `hits_at44`, `right_fg0`.`height45` `height45`, `right_fg0`.`period45` `period45`, `right_fg0`.`direction45` `direction45`, `right_fg0`.`hits_at45` `hits_at45`, `right_fg0`.`height46` `height46`, `right_fg0`.`period46` `period46`, `right_fg0`.`direction46` `direction46`, `right_fg0`.`hits_at46` `hits_at46`, `right_fg0`.`height47` `height47`, `right_fg0`.`period47` `period47`, `right_fg0`.`direction47` `direction47`, `right_fg0`.`hits_at47` `hits_at47`, `right_fg0`.`height48` `height48`, `right_fg0`.`period48` `period48`, `right_fg0`.`direction48` `direction48`, `right_fg0`.`hits_at48` `hits_at48`, `right_fg0`.`height49` `height49`, `right_fg0`.`period49` `period49`, `right_fg0`.`direction49` `direction49`, `right_fg0`.`hits_at49` `hits_at49`, `right_fg0`.`height50` `height50`, `right_fg0`.`period50` `period50`, `right_fg0`.`direction50` `direction50`, `right_fg0`.`hits_at50` `hits_at50`, `right_fg0`.`height51` `height51`, `right_fg0`.`period51` `period51`, `right_fg0`.`direction51` `direction51`, `right_fg0`.`hits_at51` `hits_at51`, `right_fg0`.`height52` `height52`, `right_fg0`.`period52` `period52`, `right_fg0`.`direction52` `direction52`, `right_fg0`.`hits_at52` `hits_at52`, `right_fg0`.`height53` `height53`, `right_fg0`.`period53` `period53`, `right_fg0`.`direction53` `direction53`, `right_fg0`.`hits_at53` `hits_at53`, `right_fg0`.`height54` `height54`, `right_fg0`.`period54` `period54`, `right_fg0`.`direction54` `direction54`, `right_fg0`.`hits_at54` `hits_at54`, `right_fg0`.`height55` `height55`, `right_fg0`.`period55` `period55`, `right_fg0`.`direction55` `direction55`, `right_fg0`.`hits_at55` `hits_at55`, `right_fg0`.`height56` `height56`, `right_fg0`.`period56` `period56`, `right_fg0`.`direction56` `direction56`, `right_fg0`.`hits_at56` `hits_at56`, `right_fg0`.`height57` `height57`, `right_fg0`.`period57` `period57`, `right_fg0`.`direction57` `direction57`, `right_fg0`.`hits_at57` `hits_at57`, `right_fg0`.`height58` `height58`, `right_fg0`.`period58` `period58`, `right_fg0`.`direction58` `direction58`, `right_fg0`.`hits_at58` `hits_at58`, `right_fg0`.`height59` `height59`, `right_fg0`.`period59` `period59`, `right_fg0`.`direction59` `direction59`, `right_fg0`.`hits_at59` `hits_at59`, `right_fg0`.`height60` `height60`, `right_fg0`.`period60` `period60`, `right_fg0`.`direction60` `direction60`, `right_fg0`.`hits_at60` `hits_at60`, `right_fg0`.`height61` `height61`, `right_fg0`.`period61` `period61`, `right_fg0`.`direction61` `direction61`, `right_fg0`.`hits_at61` `hits_at61`, `right_fg0`.`height62` `height62`, `right_fg0`.`period62` `period62`, `right_fg0`.`direction62` `direction62`, `right_fg0`.`hits_at62` `hits_at62`, `right_fg0`.`height63` `height63`, `right_fg0`.`period63` `period63`, `right_fg0`.`direction63` `direction63`, `right_fg0`.`hits_at63` `hits_at63`, `right_fg0`.`height64` `height64`, `right_fg0`.`period64` `period64`, `right_fg0`.`direction64` `direction64`, `right_fg0`.`hits_at64` `hits_at64`, `right_fg0`.`height65` `height65`, `right_fg0`.`period65` `period65`, `right_fg0`.`direction65` `direction65`, `right_fg0`.`hits_at65` `hits_at65`, `right_fg0`.`height66` `height66`, `right_fg0`.`period66` `period66`, `right_fg0`.`direction66` `direction66`, `right_fg0`.`hits_at66` `hits_at66`, `right_fg0`.`height67` `height67`, `right_fg0`.`period67` `period67`, `right_fg0`.`direction67` `direction67`, `right_fg0`.`hits_at67` `hits_at67`, `right_fg0`.`height68` `height68`, `right_fg0`.`period68` `period68`, `right_fg0`.`direction68` `direction68`, `right_fg0`.`hits_at68` `hits_at68`, `right_fg0`.`height69` `height69`, `right_fg0`.`period69` `period69`, `right_fg0`.`direction69` `direction69`, `right_fg0`.`hits_at69` `hits_at69`, `right_fg0`.`height70` `height70`, `right_fg0`.`period70` `period70`, `right_fg0`.`direction70` `direction70`, `right_fg0`.`hits_at70` `hits_at70`, `right_fg0`.`height71` `height71`, `right_fg0`.`period71` `period71`, `right_fg0`.`direction71` `direction71`, `right_fg0`.`hits_at71` `hits_at71`, `right_fg0`.`height72` `height72`, `right_fg0`.`period72` `period72`, `right_fg0`.`direction72` `direction72`, `right_fg0`.`hits_at72` `hits_at72`, `right_fg0`.`height73` `height73`, `right_fg0`.`period73` `period73`, `right_fg0`.`direction73` `direction73`, `right_fg0`.`hits_at73` `hits_at73`, `right_fg0`.`height74` `height74`, `right_fg0`.`period74` `period74`, `right_fg0`.`direction74` `direction74`, `right_fg0`.`hits_at74` `hits_at74`, `right_fg0`.`height75` `height75`, `right_fg0`.`period75` `period75`, `right_fg0`.`direction75` `direction75`, `right_fg0`.`hits_at75` `hits_at75`, `right_fg0`.`height76` `height76`, `right_fg0`.`period76` `period76`, `right_fg0`.`direction76` `direction76`, `right_fg0`.`hits_at76` `hits_at76`, `right_fg0`.`height77` `height77`, `right_fg0`.`period77` `period77`, `right_fg0`.`direction77` `direction77`, `right_fg0`.`hits_at77` `hits_at77`, `right_fg0`.`height78` `height78`, `right_fg0`.`period78` `period78`, `right_fg0`.`direction78` `direction78`, `right_fg0`.`hits_at78` `hits_at78`, `right_fg0`.`height79` `height79`, `right_fg0`.`period79` `period79`, `right_fg0`.`direction79` `direction79`, `right_fg0`.`hits_at79` `hits_at79`, `right_fg0`.`height80` `height80`, `right_fg0`.`period80` `period80`, `right_fg0`.`direction80` `direction80`, `right_fg0`.`hits_at80` `hits_at80`, `right_fg0`.`height81` `height81`, `right_fg0`.`period81` `period81`, `right_fg0`.`direction81` `direction81`, `right_fg0`.`hits_at81` `hits_at81`, `right_fg0`.`height82` `height82`, `right_fg0`.`period82` `period82`, `right_fg0`.`direction82` `direction82`, `right_fg0`.`hits_at82` `hits_at82`, `right_fg0`.`height83` `height83`, `right_fg0`.`period83` `period83`, `right_fg0`.`direction83` `direction83`, `right_fg0`.`hits_at83` `hits_at83`, `right_fg0`.`height84` `height84`, `right_fg0`.`period84` `period84`, `right_fg0`.`direction84` `direction84`, `right_fg0`.`hits_at84` `hits_at84`, `right_fg0`.`height85` `height85`, `right_fg0`.`period85` `period85`, `right_fg0`.`direction85` `direction85`, `right_fg0`.`hits_at85` `hits_at85`, `right_fg0`.`height86` `height86`, `right_fg0`.`period86` `period86`, `right_fg0`.`direction86` `direction86`, `right_fg0`.`hits_at86` `hits_at86`, `right_fg0`.`height87` `height87`, `right_fg0`.`period87` `period87`, `right_fg0`.`direction87` `direction87`, `right_fg0`.`hits_at87` `hits_at87`, `right_fg0`.`height88` `height88`, `right_fg0`.`period88` `period88`, `right_fg0`.`direction88` `direction88`, `right_fg0`.`hits_at88` `hits_at88`, `right_fg0`.`height89` `height89`, `right_fg0`.`period89` `period89`, `right_fg0`.`direction89` `direction89`, `right_fg0`.`hits_at89` `hits_at89`, `right_fg0`.`height90` `height90`, `right_fg0`.`period90` `period90`, `right_fg0`.`direction90` `direction90`, `right_fg0`.`hits_at90` `hits_at90`, `right_fg0`.`height91` `height91`, `right_fg0`.`period91` `period91`, `right_fg0`.`direction91` `direction91`, `right_fg0`.`hits_at91` `hits_at91`, `right_fg0`.`height92` `height92`, `right_fg0`.`period92` `period92`, `right_fg0`.`direction92` `direction92`, `right_fg0`.`hits_at92` `hits_at92`, `right_fg0`.`height93` `height93`, `right_fg0`.`period93` `period93`, `right_fg0`.`direction93` `direction93`, `right_fg0`.`hits_at93` `hits_at93`, `right_fg0`.`height94` `height94`, `right_fg0`.`period94` `period94`, `right_fg0`.`direction94` `direction94`, `right_fg0`.`hits_at94` `hits_at94`, `right_fg0`.`height95` `height95`, `right_fg0`.`period95` `period95`, `right_fg0`.`direction95` `direction95`, `right_fg0`.`hits_at95` `hits_at95`, `right_fg0`.`height96` `height96`, `right_fg0`.`period96` `period96`, `right_fg0`.`direction96` `direction96`, `right_fg0`.`hits_at96` `hits_at96`, `right_fg0`.`height97` `height97`, `right_fg0`.`period97` `period97`, `right_fg0`.`direction97` `direction97`, `right_fg0`.`hits_at97` `hits_at97`, `right_fg0`.`height98` `height98`, `right_fg0`.`period98` `period98`, `right_fg0`.`direction98` `direction98`, `right_fg0`.`hits_at98` `hits_at98`, `right_fg0`.`height99` `height99`, `right_fg0`.`period99` `period99`, `right_fg0`.`direction99` `direction99`, `right_fg0`.`hits_at99` `hits_at99`, `right_fg0`.`height100` `height100`, `right_fg0`.`period100` `period100`, `right_fg0`.`direction100` `direction100`, `right_fg0`.`hits_at100` `hits_at100`, `right_fg0`.`height101` `height101`, `right_fg0`.`period101` `period101`, `right_fg0`.`direction101` `direction101`, `right_fg0`.`hits_at101` `hits_at101`, `right_fg0`.`height102` `height102`, `right_fg0`.`period102` `period102`, `right_fg0`.`direction102` `direction102`, `right_fg0`.`hits_at102` `hits_at102`, `right_fg0`.`height103` `height103`, `right_fg0`.`period103` `period103`, `right_fg0`.`direction103` `direction103`, `right_fg0`.`hits_at103` `hits_at103`, `right_fg0`.`height104` `height104`, `right_fg0`.`period104` `period104`, `right_fg0`.`direction104` `direction104`, `right_fg0`.`hits_at104` `hits_at104`, `right_fg0`.`height105` `height105`, `right_fg0`.`period105` `period105`, `right_fg0`.`direction105` `direction105`, `right_fg0`.`hits_at105` `hits_at105`, `right_fg0`.`height106` `height106`, `right_fg0`.`period106` `period106`, `right_fg0`.`direction106` `direction106`, `right_fg0`.`hits_at106` `hits_at106`, `right_fg0`.`height107` `height107`, `right_fg0`.`period107` `period107`, `right_fg0`.`direction107` `direction107`, `right_fg0`.`hits_at107` `hits_at107`, `right_fg0`.`height108` `height108`, `right_fg0`.`period108` `period108`, `right_fg0`.`direction108` `direction108`, `right_fg0`.`hits_at108` `hits_at108`, `right_fg0`.`height109` `height109`, `right_fg0`.`period109` `period109`, `right_fg0`.`direction109` `direction109`, `right_fg0`.`hits_at109` `hits_at109`, `right_fg0`.`height110` `height110`, `right_fg0`.`period110` `period110`, `right_fg0`.`direction110` `direction110`, `right_fg0`.`hits_at110` `hits_at110`, `right_fg0`.`height111` `height111`, `right_fg0`.`period111` `period111`, `right_fg0`.`direction111` `direction111`, `right_fg0`.`hits_at111` `hits_at111`, `right_fg0`.`height112` `height112`, `right_fg0`.`period112` `period112`, `right_fg0`.`direction112` `direction112`, `right_fg0`.`hits_at112` `hits_at112`, `right_fg0`.`height113` `height113`, `right_fg0`.`period113` `period113`, `right_fg0`.`direction113` `direction113`, `right_fg0`.`hits_at113` `hits_at113`, `right_fg0`.`height114` `height114`, `right_fg0`.`period114` `period114`, `right_fg0`.`direction114` `direction114`, `right_fg0`.`hits_at114` `hits_at114`, `right_fg0`.`height115` `height115`, `right_fg0`.`period115` `period115`, `right_fg0`.`direction115` `direction115`, `right_fg0`.`hits_at115` `hits_at115`, `right_fg0`.`height116` `height116`, `right_fg0`.`period116` `period116`, `right_fg0`.`direction116` `direction116`, `right_fg0`.`hits_at116` `hits_at116`, `right_fg0`.`height117` `height117`, `right_fg0`.`period117` `period117`, `right_fg0`.`direction117` `direction117`, `right_fg0`.`hits_at117` `hits_at117`, `right_fg0`.`height118` `height118`, `right_fg0`.`period118` `period118`, `right_fg0`.`direction118` `direction118`, `right_fg0`.`hits_at118` `hits_at118`\n",
      "FROM right_fg0)\n"
     ]
    },
    {
     "name": "stderr",
     "output_type": "stream",
     "text": [
      "UserWarning: pandas only support SQLAlchemy connectable(engine/connection) ordatabase string URI or sqlite3 DBAPI2 connectionother DBAPI2 objects are not tested, please consider using SQLAlchemy\n"
     ]
    },
    {
     "ename": "RestAPIError",
     "evalue": "Metadata operation error: (url: https://c.app.hopsworks.ai/hopsworks-api/api/project/135/featurestores/81/featureview/lahinch_surf/version/1/trainingdatasets/version/1/statistics). Server response: \nHTTP code: 400, HTTP reason: Bad Request, error code: 270137, error msg: Error saving statistics, user msg: Not a valid JSON",
     "output_type": "error",
     "traceback": [
      "\u001b[0;31m---------------------------------------------------------------------------\u001b[0m",
      "\u001b[0;31mRestAPIError\u001b[0m                              Traceback (most recent call last)",
      "\u001b[0;32m/tmp/ipykernel_878285/2800734173.py\u001b[0m in \u001b[0;36m<module>\u001b[0;34m\u001b[0m\n\u001b[0;32m----> 1\u001b[0;31m \u001b[0mX_train\u001b[0m\u001b[0;34m,\u001b[0m\u001b[0my_train\u001b[0m\u001b[0;34m,\u001b[0m\u001b[0mX_test\u001b[0m\u001b[0;34m,\u001b[0m\u001b[0my_test\u001b[0m \u001b[0;34m=\u001b[0m \u001b[0mfv\u001b[0m\u001b[0;34m.\u001b[0m\u001b[0mtrain_test_split\u001b[0m\u001b[0;34m(\u001b[0m\u001b[0;36m0.1\u001b[0m\u001b[0;34m)\u001b[0m\u001b[0;34m\u001b[0m\u001b[0;34m\u001b[0m\u001b[0m\n\u001b[0m",
      "\u001b[0;32m~/anaconda3/lib/python3.9/site-packages/hsfs/feature_view.py\u001b[0m in \u001b[0;36mtrain_test_split\u001b[0;34m(self, test_size, train_start, train_end, test_start, test_end, description, statistics_config, read_options)\u001b[0m\n\u001b[1;32m    797\u001b[0m             \u001b[0mtraining_dataset_type\u001b[0m\u001b[0;34m=\u001b[0m\u001b[0mtraining_dataset\u001b[0m\u001b[0;34m.\u001b[0m\u001b[0mTrainingDataset\u001b[0m\u001b[0;34m.\u001b[0m\u001b[0mIN_MEMORY\u001b[0m\u001b[0;34m,\u001b[0m\u001b[0;34m\u001b[0m\u001b[0;34m\u001b[0m\u001b[0m\n\u001b[1;32m    798\u001b[0m         )\n\u001b[0;32m--> 799\u001b[0;31m         td, df = self._feature_view_engine.get_training_data(\n\u001b[0m\u001b[1;32m    800\u001b[0m             \u001b[0mself\u001b[0m\u001b[0;34m,\u001b[0m\u001b[0;34m\u001b[0m\u001b[0;34m\u001b[0m\u001b[0m\n\u001b[1;32m    801\u001b[0m             \u001b[0mread_options\u001b[0m\u001b[0;34m,\u001b[0m\u001b[0;34m\u001b[0m\u001b[0;34m\u001b[0m\u001b[0m\n",
      "\u001b[0;32m~/anaconda3/lib/python3.9/site-packages/hsfs/core/feature_view_engine.py\u001b[0m in \u001b[0;36mget_training_data\u001b[0;34m(self, feature_view_obj, read_options, splits, training_dataset_obj, training_dataset_version)\u001b[0m\n\u001b[1;32m    197\u001b[0m                 \u001b[0mtd_updated\u001b[0m\u001b[0;34m,\u001b[0m \u001b[0mfeature_view_obj\u001b[0m\u001b[0;34m,\u001b[0m \u001b[0mquery\u001b[0m\u001b[0;34m,\u001b[0m \u001b[0mread_options\u001b[0m\u001b[0;34m\u001b[0m\u001b[0;34m\u001b[0m\u001b[0m\n\u001b[1;32m    198\u001b[0m             )\n\u001b[0;32m--> 199\u001b[0;31m             self.compute_training_dataset_statistics(\n\u001b[0m\u001b[1;32m    200\u001b[0m                 \u001b[0mfeature_view_obj\u001b[0m\u001b[0;34m,\u001b[0m \u001b[0mtd_updated\u001b[0m\u001b[0;34m,\u001b[0m \u001b[0msplit_df\u001b[0m\u001b[0;34m,\u001b[0m \u001b[0mcalc_stat\u001b[0m\u001b[0;34m=\u001b[0m\u001b[0;32mTrue\u001b[0m\u001b[0;34m\u001b[0m\u001b[0;34m\u001b[0m\u001b[0m\n\u001b[1;32m    201\u001b[0m             )\n",
      "\u001b[0;32m~/anaconda3/lib/python3.9/site-packages/hsfs/core/feature_view_engine.py\u001b[0m in \u001b[0;36mcompute_training_dataset_statistics\u001b[0;34m(self, feature_view_obj, training_dataset_obj, td_df, calc_stat)\u001b[0m\n\u001b[1;32m    330\u001b[0m                         \u001b[0;34m\"'split': dataframe\"\u001b[0m\u001b[0;34m\u001b[0m\u001b[0;34m\u001b[0m\u001b[0m\n\u001b[1;32m    331\u001b[0m                     )\n\u001b[0;32m--> 332\u001b[0;31m                 return self._statistics_engine.register_split_statistics(\n\u001b[0m\u001b[1;32m    333\u001b[0m                     \u001b[0mtraining_dataset_obj\u001b[0m\u001b[0;34m,\u001b[0m\u001b[0;34m\u001b[0m\u001b[0;34m\u001b[0m\u001b[0m\n\u001b[1;32m    334\u001b[0m                     \u001b[0mfeature_dataframes\u001b[0m\u001b[0;34m=\u001b[0m\u001b[0mtd_df\u001b[0m\u001b[0;34m,\u001b[0m\u001b[0;34m\u001b[0m\u001b[0;34m\u001b[0m\u001b[0m\n",
      "\u001b[0;32m~/anaconda3/lib/python3.9/site-packages/hsfs/core/statistics_engine.py\u001b[0m in \u001b[0;36mregister_split_statistics\u001b[0;34m(self, td_metadata_instance, feature_view_obj, feature_dataframes)\u001b[0m\n\u001b[1;32m    137\u001b[0m         )\n\u001b[1;32m    138\u001b[0m \u001b[0;34m\u001b[0m\u001b[0m\n\u001b[0;32m--> 139\u001b[0;31m         \u001b[0mself\u001b[0m\u001b[0;34m.\u001b[0m\u001b[0m_save_statistics\u001b[0m\u001b[0;34m(\u001b[0m\u001b[0mstats\u001b[0m\u001b[0;34m,\u001b[0m \u001b[0mtd_metadata_instance\u001b[0m\u001b[0;34m,\u001b[0m \u001b[0mfeature_view_obj\u001b[0m\u001b[0;34m)\u001b[0m\u001b[0;34m\u001b[0m\u001b[0;34m\u001b[0m\u001b[0m\n\u001b[0m\u001b[1;32m    140\u001b[0m         \u001b[0;32mreturn\u001b[0m \u001b[0mstats\u001b[0m\u001b[0;34m\u001b[0m\u001b[0;34m\u001b[0m\u001b[0m\n\u001b[1;32m    141\u001b[0m \u001b[0;34m\u001b[0m\u001b[0m\n",
      "\u001b[0;32m~/anaconda3/lib/python3.9/site-packages/hsfs/core/statistics_engine.py\u001b[0m in \u001b[0;36m_save_statistics\u001b[0;34m(self, stats, td_metadata_instance, feature_view_obj)\u001b[0m\n\u001b[1;32m    186\u001b[0m     \u001b[0;32mdef\u001b[0m \u001b[0m_save_statistics\u001b[0m\u001b[0;34m(\u001b[0m\u001b[0mself\u001b[0m\u001b[0;34m,\u001b[0m \u001b[0mstats\u001b[0m\u001b[0;34m,\u001b[0m \u001b[0mtd_metadata_instance\u001b[0m\u001b[0;34m,\u001b[0m \u001b[0mfeature_view_obj\u001b[0m\u001b[0;34m)\u001b[0m\u001b[0;34m:\u001b[0m\u001b[0;34m\u001b[0m\u001b[0;34m\u001b[0m\u001b[0m\n\u001b[1;32m    187\u001b[0m         \u001b[0;32mif\u001b[0m \u001b[0mfeature_view_obj\u001b[0m\u001b[0;34m:\u001b[0m\u001b[0;34m\u001b[0m\u001b[0;34m\u001b[0m\u001b[0m\n\u001b[0;32m--> 188\u001b[0;31m             self._statistics_api.post(\n\u001b[0m\u001b[1;32m    189\u001b[0m                 \u001b[0mfeature_view_obj\u001b[0m\u001b[0;34m,\u001b[0m \u001b[0mstats\u001b[0m\u001b[0;34m,\u001b[0m \u001b[0mtd_metadata_instance\u001b[0m\u001b[0;34m.\u001b[0m\u001b[0mversion\u001b[0m\u001b[0;34m\u001b[0m\u001b[0;34m\u001b[0m\u001b[0m\n\u001b[1;32m    190\u001b[0m             )\n",
      "\u001b[0;32m~/anaconda3/lib/python3.9/site-packages/hsfs/core/statistics_api.py\u001b[0m in \u001b[0;36mpost\u001b[0;34m(self, metadata_instance, statistics, training_dataset_version)\u001b[0m\n\u001b[1;32m     36\u001b[0m \u001b[0;34m\u001b[0m\u001b[0m\n\u001b[1;32m     37\u001b[0m         \u001b[0mheaders\u001b[0m \u001b[0;34m=\u001b[0m \u001b[0;34m{\u001b[0m\u001b[0;34m\"content-type\"\u001b[0m\u001b[0;34m:\u001b[0m \u001b[0;34m\"application/json\"\u001b[0m\u001b[0;34m}\u001b[0m\u001b[0;34m\u001b[0m\u001b[0;34m\u001b[0m\u001b[0m\n\u001b[0;32m---> 38\u001b[0;31m         _client._send_request(\n\u001b[0m\u001b[1;32m     39\u001b[0m             \u001b[0;34m\"POST\"\u001b[0m\u001b[0;34m,\u001b[0m \u001b[0mpath_params\u001b[0m\u001b[0;34m,\u001b[0m \u001b[0mheaders\u001b[0m\u001b[0;34m=\u001b[0m\u001b[0mheaders\u001b[0m\u001b[0;34m,\u001b[0m \u001b[0mdata\u001b[0m\u001b[0;34m=\u001b[0m\u001b[0mstatistics\u001b[0m\u001b[0;34m.\u001b[0m\u001b[0mjson\u001b[0m\u001b[0;34m(\u001b[0m\u001b[0;34m)\u001b[0m\u001b[0;34m\u001b[0m\u001b[0;34m\u001b[0m\u001b[0m\n\u001b[1;32m     40\u001b[0m         )\n",
      "\u001b[0;32m~/anaconda3/lib/python3.9/site-packages/hsfs/decorators.py\u001b[0m in \u001b[0;36mif_connected\u001b[0;34m(inst, *args, **kwargs)\u001b[0m\n\u001b[1;32m     33\u001b[0m         \u001b[0;32mif\u001b[0m \u001b[0;32mnot\u001b[0m \u001b[0minst\u001b[0m\u001b[0;34m.\u001b[0m\u001b[0m_connected\u001b[0m\u001b[0;34m:\u001b[0m\u001b[0;34m\u001b[0m\u001b[0;34m\u001b[0m\u001b[0m\n\u001b[1;32m     34\u001b[0m             \u001b[0;32mraise\u001b[0m \u001b[0mNoHopsworksConnectionError\u001b[0m\u001b[0;34m\u001b[0m\u001b[0;34m\u001b[0m\u001b[0m\n\u001b[0;32m---> 35\u001b[0;31m         \u001b[0;32mreturn\u001b[0m \u001b[0mfn\u001b[0m\u001b[0;34m(\u001b[0m\u001b[0minst\u001b[0m\u001b[0;34m,\u001b[0m \u001b[0;34m*\u001b[0m\u001b[0margs\u001b[0m\u001b[0;34m,\u001b[0m \u001b[0;34m**\u001b[0m\u001b[0mkwargs\u001b[0m\u001b[0;34m)\u001b[0m\u001b[0;34m\u001b[0m\u001b[0;34m\u001b[0m\u001b[0m\n\u001b[0m\u001b[1;32m     36\u001b[0m \u001b[0;34m\u001b[0m\u001b[0m\n\u001b[1;32m     37\u001b[0m     \u001b[0;32mreturn\u001b[0m \u001b[0mif_connected\u001b[0m\u001b[0;34m\u001b[0m\u001b[0;34m\u001b[0m\u001b[0m\n",
      "\u001b[0;32m~/anaconda3/lib/python3.9/site-packages/hsfs/client/base.py\u001b[0m in \u001b[0;36m_send_request\u001b[0;34m(self, method, path_params, query_params, headers, data, stream, files)\u001b[0m\n\u001b[1;32m    169\u001b[0m \u001b[0;34m\u001b[0m\u001b[0m\n\u001b[1;32m    170\u001b[0m         \u001b[0;32mif\u001b[0m \u001b[0mresponse\u001b[0m\u001b[0;34m.\u001b[0m\u001b[0mstatus_code\u001b[0m \u001b[0;34m//\u001b[0m \u001b[0;36m100\u001b[0m \u001b[0;34m!=\u001b[0m \u001b[0;36m2\u001b[0m\u001b[0;34m:\u001b[0m\u001b[0;34m\u001b[0m\u001b[0;34m\u001b[0m\u001b[0m\n\u001b[0;32m--> 171\u001b[0;31m             \u001b[0;32mraise\u001b[0m \u001b[0mexceptions\u001b[0m\u001b[0;34m.\u001b[0m\u001b[0mRestAPIError\u001b[0m\u001b[0;34m(\u001b[0m\u001b[0murl\u001b[0m\u001b[0;34m,\u001b[0m \u001b[0mresponse\u001b[0m\u001b[0;34m)\u001b[0m\u001b[0;34m\u001b[0m\u001b[0;34m\u001b[0m\u001b[0m\n\u001b[0m\u001b[1;32m    172\u001b[0m \u001b[0;34m\u001b[0m\u001b[0m\n\u001b[1;32m    173\u001b[0m         \u001b[0;32mif\u001b[0m \u001b[0mstream\u001b[0m\u001b[0;34m:\u001b[0m\u001b[0;34m\u001b[0m\u001b[0;34m\u001b[0m\u001b[0m\n",
      "\u001b[0;31mRestAPIError\u001b[0m: Metadata operation error: (url: https://c.app.hopsworks.ai/hopsworks-api/api/project/135/featurestores/81/featureview/lahinch_surf/version/1/trainingdatasets/version/1/statistics). Server response: \nHTTP code: 400, HTTP reason: Bad Request, error code: 270137, error msg: Error saving statistics, user msg: Not a valid JSON"
     ]
    }
   ],
   "source": [
    "#X_train,y_train,X_test,y_test = fv.train_test_split(0.1)"
   ]
  },
  {
   "cell_type": "code",
   "execution_count": 9,
   "id": "ca67c2ab",
   "metadata": {},
   "outputs": [
    {
     "name": "stdout",
     "output_type": "stream",
     "text": [
      "Training dataset job started successfully, you can follow the progress at \n",
      "https://c.app.hopsworks.ai/p/135/jobs/named/lahinch_surf_1_2_create_fv_td_01072022213527/executions\n"
     ]
    },
    {
     "name": "stderr",
     "output_type": "stream",
     "text": [
      "VersionWarning: Incremented version to `2`.\n"
     ]
    }
   ],
   "source": [
    "td_version, td_job = fv.create_train_test_split(\n",
    "    description = 'cjsurf training data',\n",
    "    data_format = 'csv',\n",
    "    test_size = 0.1,\n",
    "    write_options = {'wait_for_job': True}\n",
    ")"
   ]
  },
  {
   "cell_type": "code",
   "execution_count": 10,
   "id": "35e86f0f",
   "metadata": {},
   "outputs": [],
   "source": [
    "X_train, y_train, X_test, y_test = fv.get_train_test_split(td_version)"
   ]
  },
  {
   "cell_type": "code",
   "execution_count": 11,
   "id": "c2fd3fa5",
   "metadata": {},
   "outputs": [
    {
     "data": {
      "text/html": [
       "<div>\n",
       "<style scoped>\n",
       "    .dataframe tbody tr th:only-of-type {\n",
       "        vertical-align: middle;\n",
       "    }\n",
       "\n",
       "    .dataframe tbody tr th {\n",
       "        vertical-align: top;\n",
       "    }\n",
       "\n",
       "    .dataframe thead th {\n",
       "        text-align: right;\n",
       "    }\n",
       "</style>\n",
       "<table border=\"1\" class=\"dataframe\">\n",
       "  <thead>\n",
       "    <tr style=\"text-align: right;\">\n",
       "      <th></th>\n",
       "      <th>height</th>\n",
       "      <th>period</th>\n",
       "      <th>direction</th>\n",
       "    </tr>\n",
       "  </thead>\n",
       "  <tbody>\n",
       "    <tr>\n",
       "      <th>0</th>\n",
       "      <td>0.6</td>\n",
       "      <td>11.1</td>\n",
       "      <td>86</td>\n",
       "    </tr>\n",
       "    <tr>\n",
       "      <th>1</th>\n",
       "      <td>1.1</td>\n",
       "      <td>9.6</td>\n",
       "      <td>128</td>\n",
       "    </tr>\n",
       "    <tr>\n",
       "      <th>2</th>\n",
       "      <td>2.2</td>\n",
       "      <td>9.1</td>\n",
       "      <td>109</td>\n",
       "    </tr>\n",
       "    <tr>\n",
       "      <th>3</th>\n",
       "      <td>2.4</td>\n",
       "      <td>9.7</td>\n",
       "      <td>70</td>\n",
       "    </tr>\n",
       "    <tr>\n",
       "      <th>4</th>\n",
       "      <td>3.8</td>\n",
       "      <td>12.2</td>\n",
       "      <td>64</td>\n",
       "    </tr>\n",
       "    <tr>\n",
       "      <th>...</th>\n",
       "      <td>...</td>\n",
       "      <td>...</td>\n",
       "      <td>...</td>\n",
       "    </tr>\n",
       "    <tr>\n",
       "      <th>302</th>\n",
       "      <td>3.8</td>\n",
       "      <td>10.0</td>\n",
       "      <td>155</td>\n",
       "    </tr>\n",
       "    <tr>\n",
       "      <th>303</th>\n",
       "      <td>0.8</td>\n",
       "      <td>8.3</td>\n",
       "      <td>109</td>\n",
       "    </tr>\n",
       "    <tr>\n",
       "      <th>304</th>\n",
       "      <td>1.5</td>\n",
       "      <td>8.4</td>\n",
       "      <td>103</td>\n",
       "    </tr>\n",
       "    <tr>\n",
       "      <th>305</th>\n",
       "      <td>3.7</td>\n",
       "      <td>12.4</td>\n",
       "      <td>63</td>\n",
       "    </tr>\n",
       "    <tr>\n",
       "      <th>306</th>\n",
       "      <td>3.8</td>\n",
       "      <td>10.7</td>\n",
       "      <td>142</td>\n",
       "    </tr>\n",
       "  </tbody>\n",
       "</table>\n",
       "<p>307 rows × 3 columns</p>\n",
       "</div>"
      ],
      "text/plain": [
       "     height  period  direction\n",
       "0       0.6    11.1         86\n",
       "1       1.1     9.6        128\n",
       "2       2.2     9.1        109\n",
       "3       2.4     9.7         70\n",
       "4       3.8    12.2         64\n",
       "..      ...     ...        ...\n",
       "302     3.8    10.0        155\n",
       "303     0.8     8.3        109\n",
       "304     1.5     8.4        103\n",
       "305     3.7    12.4         63\n",
       "306     3.8    10.7        142\n",
       "\n",
       "[307 rows x 3 columns]"
      ]
     },
     "execution_count": 11,
     "metadata": {},
     "output_type": "execute_result"
    }
   ],
   "source": [
    "X_train = X_train[['height', 'period', 'direction']]\n",
    "X_test = X_test[['height', 'period', 'direction']]\n",
    "X_train"
   ]
  },
  {
   "cell_type": "code",
   "execution_count": 12,
   "id": "7fe7e446",
   "metadata": {},
   "outputs": [],
   "source": [
    "from sklearn import preprocessing\n",
    "le = preprocessing.LabelEncoder()\n",
    "y_train_encoded=le.fit_transform(y_train['wave_height'])\n",
    "y_test_encoded=le.fit_transform(y_test['wave_height'])"
   ]
  },
  {
   "cell_type": "code",
   "execution_count": 13,
   "id": "069aa94f",
   "metadata": {},
   "outputs": [
    {
     "data": {
      "text/plain": [
       "KNeighborsClassifier(n_neighbors=3)"
      ]
     },
     "execution_count": 13,
     "metadata": {},
     "output_type": "execute_result"
    }
   ],
   "source": [
    "model = KNeighborsClassifier(n_neighbors=3)\n",
    "model.fit(X_train,y_train_encoded)"
   ]
  },
  {
   "cell_type": "code",
   "execution_count": 14,
   "id": "12f1b9ed",
   "metadata": {},
   "outputs": [
    {
     "data": {
      "image/png": "[encoded data removed]",
      "text/plain": [
       "<Figure size 432x288 with 1 Axes>"
      ]
     },
     "metadata": {
      "needs_background": "light"
     },
     "output_type": "display_data"
    }
   ],
   "source": [
    "import matplotlib.pyplot as plt\n",
    "from sklearn.metrics import precision_recall_fscore_support, mean_squared_error\n",
    "%matplotlib inline\n",
    "\n",
    "y_pred = model.predict(X_test)\n",
    "\n",
    "precision, recall, fscore, _ = precision_recall_fscore_support(\n",
    "    y_test_encoded, y_pred, average=\"weighted\", zero_division=1)\n",
    "\n",
    "rmse = mean_squared_error(y_test_encoded, y_pred)\n",
    "\n",
    "# We model surf height prediction as a classification problem, as there\n",
    "# only a small number of heights reported on Lahinch beach, but the RMSE\n",
    "# is still a useful metric for evaluating if your model is more accurate or not\n",
    "metrics = {\n",
    "    \"precision\" : precision,\n",
    "    \"recall\" : recall,\n",
    "    \"fscore\" : fscore,\n",
    "    \"rmse\" : rmse\n",
    "}\n",
    "\n",
    "error_rates = []\n",
    "num_samples=len(y_pred)\n",
    "for a in range(1, num_samples):\n",
    "    error_rates.append(np.mean(y_test_encoded[a] - y_pred))\n",
    "\n",
    "plt.plot(range(0,num_samples), y_pred, label=\"predicted\")\n",
    "plt.plot(range(0,num_samples), y_test_encoded, label=\"actual\")\n",
    "plt.title('Surf height predictions')\n",
    "plt.xlabel('Day')\n",
    "plt.ylabel('Height')\n",
    "plt.legend()\n",
    "plt.show()"
   ]
  },
  {
   "cell_type": "code",
   "execution_count": 15,
   "id": "f9588cac",
   "metadata": {},
   "outputs": [
    {
     "name": "stdout",
     "output_type": "stream",
     "text": [
      "Connection closed.\n",
      "Connected. Call `.close()` to terminate connection gracefully.\n",
      "\n",
      "Logged in to project, explore it here https://c.app.hopsworks.ai:443/p/135\n",
      "Connected. Call `.close()` to terminate connection gracefully.\n"
     ]
    },
    {
     "data": {
      "application/vnd.jupyter.widget-view+json": {
       "model_id": "172f18aaffe143019151f64933768773",
       "version_major": 2,
       "version_minor": 0
      },
      "text/plain": [
       "  0%|          | 0/6 [00:00<?, ?it/s]"
      ]
     },
     "metadata": {},
     "output_type": "display_data"
    },
    {
     "name": "stdout",
     "output_type": "stream",
     "text": [
      "Model created, explore it at https://c.app.hopsworks.ai:443/p/135/models/cjsurf_model/1\n"
     ]
    },
    {
     "data": {
      "text/plain": [
       "Model(name: 'cjsurf_model', version: 1)"
      ]
     },
     "execution_count": 15,
     "metadata": {},
     "output_type": "execute_result"
    }
   ],
   "source": [
    "from hsml.schema import Schema\n",
    "from hsml.model_schema import ModelSchema\n",
    "\n",
    "project = hopsworks.login()\n",
    "\n",
    "mr = project.get_model_registry()\n",
    "joblib.dump(model, 'knn_model.pkl')\n",
    "\n",
    "input_example = X_train.sample()\n",
    "input_schema = Schema(X_train)\n",
    "output_schema = Schema(y_train)\n",
    "model_schema = ModelSchema(input_schema, output_schema)\n",
    "\n",
    "knn_model = mr.python.create_model(\n",
    "    version=1,\n",
    "    name=\"cjsurf_model\", \n",
    "    metrics=metrics,\n",
    "    model_schema=model_schema,\n",
    "    input_example=input_example, description=\"Lahinch Surf height predictions\")\n",
    "\n",
    "knn_model.save(\"knn_model.pkl\")"
   ]
  },
  {
   "cell_type": "code",
   "execution_count": 16,
   "id": "6ef98aa0",
   "metadata": {},
   "outputs": [
    {
     "name": "stdout",
     "output_type": "stream",
     "text": [
      "Deployment created, explore it at https://c.app.hopsworks.ai:443/p/135/deployments/49\n",
      "Before making predictions, start the deployment by using `.start()`\n"
     ]
    }
   ],
   "source": [
    "model_deployment = knn_model.deploy(name=\"cjsurf\",\n",
    "                                    model_server=\"PYTHON\",\n",
    "                                    serving_tool=\"KSERVE\"\n",
    "                                   )"
   ]
  },
  {
   "cell_type": "code",
   "execution_count": 17,
   "id": "9f278f2b",
   "metadata": {},
   "outputs": [
    {
     "data": {
      "application/vnd.jupyter.widget-view+json": {
       "model_id": "868184ed057c4fb1b40b0f490dcb0c19",
       "version_major": 2,
       "version_minor": 0
      },
      "text/plain": [
       "  0%|          | 0/1 [00:00<?, ?it/s]"
      ]
     },
     "metadata": {},
     "output_type": "display_data"
    },
    {
     "name": "stdout",
     "output_type": "stream",
     "text": [
      "Start making predictions by using `.predict()`\n"
     ]
    }
   ],
   "source": [
    "model_deployment.start()"
   ]
  },
  {
   "cell_type": "code",
   "execution_count": null,
   "id": "2d5c5687",
   "metadata": {},
   "outputs": [],
   "source": []
  }
 ],
 "metadata": {
  "kernelspec": {
   "display_name": "Python 3 (ipykernel)",
   "language": "python",
   "name": "python3"
  },
  "language_info": {
   "codemirror_mode": {
    "name": "ipython",
    "version": 3
   },
   "file_extension": ".py",
   "mimetype": "text/x-python",
   "name": "python",
   "nbconvert_exporter": "python",
   "pygments_lexer": "ipython3",
   "version": "3.9.7"
  }
 },
 "nbformat": 4,
 "nbformat_minor": 5
}
