{
 "cells": [
  {
   "cell_type": "markdown",
   "id": "276660a6",
   "metadata": {},
   "source": [
    "## Feature Pipeline for the `lahinch` feature group\n",
    "\n",
    "This feature pipeline can be run on a schedule using github actions (see github repo for the example file).\n",
    "\n",
    "### Requirements\n",
    "\n",
    " * hopsworks"
   ]
  },
  {
   "cell_type": "code",
   "execution_count": 1,
   "id": "a5c8ac2b",
   "metadata": {},
   "outputs": [],
   "source": [
    "#!pip install -U hopsworks\n",
    "import duckdb"
   ]
  },
  {
   "cell_type": "code",
   "execution_count": 2,
   "id": "56e73db1",
   "metadata": {},
   "outputs": [
    {
     "data": {
      "image/png": "[encoded data removed]",
      "text/plain": [
       "<Figure size 640x480 with 1 Axes>"
      ]
     },
     "metadata": {},
     "output_type": "display_data"
    }
   ],
   "source": [
    "from PIL import Image\n",
    "import matplotlib.pyplot as plt\n",
    "\n",
    "# Load the PNG image\n",
    "image_path = 'latest_lahinch.png'  # Replace with your actual file path\n",
    "image = Image.open(image_path)\n",
    "\n",
    "# Display the image\n",
    "plt.imshow(image)\n",
    "plt.axis('off')  # Hide axes\n",
    "plt.title(\"PNG Image\")\n",
    "plt.show()\n"
   ]
  },
  {
   "cell_type": "code",
   "execution_count": null,
   "id": "20132d99",
   "metadata": {},
   "outputs": [],
   "source": [
    "import os\n",
    "import re\n",
    "import pandas as pd\n",
    "import parsedatetime\n",
    "from datetime import datetime\n",
    "import numpy as np\n",
    "import requests\n",
    "import hopsworks"
   ]
  },
  {
   "cell_type": "markdown",
   "id": "028221ff",
   "metadata": {},
   "source": [
    "### Not app.hopsworks.ai ?\n",
    "\n",
    "If you are running your own Hopsworks cluster (not app.hopsworks.ai):\n",
    "\n",
    " * uncomment the cell below\n",
    " * fill in details for your cluster\n",
    " * run the cel"
   ]
  },
  {
   "cell_type": "code",
   "execution_count": null,
   "id": "c1233820",
   "metadata": {},
   "outputs": [],
   "source": [
    "# Uncomment this cell and fill in details if you are running your own Hopsworks cluster\n",
    "# key=\"\"\n",
    "# with open(\"api-key.txt\", \"r\") as f:\n",
    "#     key = f.read().rstrip()\n",
    "# os.environ['HOPSWORKS_PROJECT']=\"cjsurf\"\n",
    "# os.environ['HOPSWORKS_HOST']=\"35.187.178.84\"\n",
    "# os.environ['HOPSWORKS_API_KEY']=key"
   ]
  },
  {
   "cell_type": "markdown",
   "id": "7fb6e546",
   "metadata": {},
   "source": [
    "### Backfill the feature group \n",
    "\n",
    "If you set `BACKFILL` to `True` in the cell below, and continue running all the cells, you will insert surf height observations from the `lahinch-surf.csv` file into the `lahinch` feature group.\n",
    "\n",
    "When `BACKFILL` is `False`, it will download the latest surf report from Lahinch Surf Shop and insert it into the `lahinch` feature group."
   ]
  },
  {
   "cell_type": "code",
   "execution_count": null,
   "id": "5bf194c2",
   "metadata": {},
   "outputs": [],
   "source": [
    "BACKFILL=False\n",
    "if os.environ.get('BACKFILL') == \"False\":\n",
    "    BACKFILL=False\n",
    "version=1\n",
    "url=\"https://www.lahinchsurfshop.com/\"\n",
    "backfill_url=\"https://repo.hops.works/master/hopsworks-tutorials/data/cjsurf/lahinch-surf.csv\""
   ]
  },
  {
   "cell_type": "markdown",
   "id": "8103effd",
   "metadata": {},
   "source": [
    "When `BACkFILL` is `False`, we scrape the surf height for today from the Lahinch surf shop webpage."
   ]
  },
  {
   "cell_type": "code",
   "execution_count": null,
   "id": "68cb4fd7",
   "metadata": {},
   "outputs": [],
   "source": [
    "if BACKFILL == False:\n",
    "    filepath = 'index.html'\n",
    "    if os.path.exists(filepath):\n",
    "        os.remove(filepath)\n",
    "    response = requests.get(url)\n",
    "    open(filepath, \"wb\").write(response.content)    \n",
    "\n",
    "    cal = parsedatetime.Calendar()\n",
    "    data = []\n",
    "    with open(filepath) as fp:\n",
    "        line = fp.readline()\n",
    "        cnt = 1\n",
    "        the_date = None\n",
    "        img_url = None\n",
    "        max_height = None\n",
    "        min_height = None\n",
    "        regex = None\n",
    "        while line:\n",
    "            if \"Last updated\" in line:\n",
    "                #: June 13, 2022\n",
    "                str = line.partition(\"Last updated</b>:\")[2]\n",
    "                date_str = str.partition(\"</p>\")[0]\n",
    "                # fix the time to 10am\n",
    "                date_str = date_str + \" 10am\"\n",
    "                time_struct, parse_status = cal.parse(date_str)\n",
    "                the_date = datetime(*time_struct[:6])\n",
    "            if \"Wave height\" in line:\n",
    "                str = line.partition(\"Wave height</b>:\")[2]\n",
    "                height_str = str.partition(\", Sea\")[0]\n",
    "                regex = re.match(r'.*([0-9]+)-([0-9]+)ft.*', height_str)\n",
    "                if regex is not None:\n",
    "                    min_height=regex.groups()[0]\n",
    "                    max_height=regex.groups()[1]\n",
    "                    height = (float(min_height)+float(max_height))/2\n",
    "                else:\n",
    "                    regex = re.findall(r'.*([0-9]+)ft', height_str)\n",
    "                    if len(regex):\n",
    "                        max_height=regex[0]\n",
    "                        min_height=regex[0]\n",
    "                        height=regex[0]\n",
    "                    else:\n",
    "                        regex = re.findall(r'.*([4-9]+)inches', height_str)\n",
    "                        if len(regex):\n",
    "                            max_height=\"0.5\"\n",
    "                            min_height=\"0\"\n",
    "                            height=\"0.5\"\n",
    "                        else:\n",
    "                            max_height=\"0\"\n",
    "                            min_height=\"0\"\n",
    "                            height=\"0\"\n",
    "                    \n",
    "            if regex is not None:\n",
    "                if the_date is not None:\n",
    "                    row=[the_date, height, max_height, min_height]\n",
    "                    data.append(row)\n",
    "                    the_date = None\n",
    "                    regex = None\n",
    "            line = fp.readline()\n",
    "            cnt += 1\n",
    "\n",
    "    df = pd.DataFrame(data, columns=['observation_time', 'wave_height', 'max_height', 'min_height'])\n",
    "    df['beach_id'] = 1\n",
    "    \n",
    "else: # BACKFILL == True\n",
    "    df = pd.read_csv(backfill_url, parse_dates=['observation_time'])\n",
    "\n",
    "df['wave_height'] = pd.to_numeric(df['wave_height'] , errors='coerce').astype(np.float64)\n",
    "df['max_height'] = pd.to_numeric(df['max_height'] , errors='coerce').astype(np.float64)\n",
    "df['min_height'] = pd.to_numeric(df['min_height'] , errors='coerce').astype(np.float64)\n",
    "    \n",
    "df"
   ]
  },
  {
   "cell_type": "markdown",
   "id": "c245e634",
   "metadata": {},
   "source": [
    "## Validate your feature data\n",
    "\n",
    "We add a validation rule here that the `wave_height` should not be lower than `0` or greater than `20` feet high.\n",
    "\n",
    "In the `lahinch` feature group user interface, you will see the results of the data ingestions and if this data validation rule passed for all ingestions or not."
   ]
  },
  {
   "cell_type": "code",
   "execution_count": null,
   "id": "4f2ffc9c",
   "metadata": {},
   "outputs": [],
   "source": [
    "import great_expectations as ge\n",
    "\n",
    "expectation_suite = ge.core.ExpectationSuite(expectation_suite_name=\"surf_height\")\n",
    "\n",
    "expectation_suite.add_expectation(\n",
    "  ge.core.ExpectationConfiguration(\n",
    "  expectation_type=\"expect_column_values_to_be_between\",\n",
    "  kwargs={\"column\":\"wave_height\", \"min_value\": 0, \"max_value\": 20}) \n",
    ");"
   ]
  },
  {
   "cell_type": "markdown",
   "id": "d5ca04b5",
   "metadata": {},
   "source": [
    "### Connect to your Hopsworks cluster\n",
    "\n",
    "If you only set the HOPSWORKS_API_KEY, it will assume you are connecting to app.hopsworks.ai.\n",
    "Set HOPSWORKS_HOST and HOPSWORKS_PROJECT environment variables to connect to a different Hopsworks cluster.\n",
    "\n",
    "Then write your DataFrame to the `lahinch` feature group."
   ]
  },
  {
   "cell_type": "code",
   "execution_count": null,
   "id": "d03d53f1",
   "metadata": {},
   "outputs": [],
   "source": [
    "project = hopsworks.login()\n",
    "\n",
    "fs = project.get_feature_store()\n",
    "lahinch_fg = fs.get_or_create_feature_group(name=\"lahinch\",\n",
    "        description=\"Lahinch beach surf height observations\",\n",
    "        online_enabled=True,\n",
    "        version=version,\n",
    "        primary_key=[\"beach_id\"],\n",
    "        expectation_suite=expectation_suite,\n",
    "        statistics_config={\"enabled\": True, \"histograms\": True, \"correlations\": True},\n",
    "        event_time=\"observation_time\")\n",
    "\n",
    "_, _ = lahinch_fg.insert(df)"
   ]
  },
  {
   "cell_type": "code",
   "execution_count": null,
   "id": "a5a80cfe",
   "metadata": {},
   "outputs": [],
   "source": []
  }
 ],
 "metadata": {
  "kernelspec": {
   "display_name": "Python",
   "language": "python",
   "name": "python3"
  },
  "language_info": {
   "codemirror_mode": {
    "name": "ipython",
    "version": 3
   },
   "file_extension": ".py",
   "mimetype": "text/x-python",
   "name": "python",
   "nbconvert_exporter": "python",
   "pygments_lexer": "ipython3",
   "version": "3.10.11"
  }
 },
 "nbformat": 4,
 "nbformat_minor": 5
}
