{
 "cells": [
  {
   "cell_type": "markdown",
   "id": "537f2f7d",
   "metadata": {},
   "source": [
    "## Creates the `lahinch_surf` feature view, trains the `cjsurf_model`\n",
    "\n",
    "This training pipeline can be in Google Colab or a Jupyter notebook.\n",
    "\n",
    "### Requirements\n",
    "\n",
    " * hopsworks"
   ]
  },
  {
   "cell_type": "code",
   "execution_count": 1,
   "id": "f6d96f50",
   "metadata": {},
   "outputs": [],
   "source": [
    "#!pip install -U hopsworks"
   ]
  },
  {
   "cell_type": "code",
   "execution_count": 2,
   "id": "be02aad6",
   "metadata": {},
   "outputs": [],
   "source": [
    "import hopsworks\n",
    "from sklearn.neighbors import KNeighborsClassifier\n",
    "import hsfs\n",
    "import numpy as np\n",
    "import joblib\n",
    "import os"
   ]
  },
  {
   "cell_type": "markdown",
   "id": "892fdd54",
   "metadata": {},
   "source": [
    "### Not app.hopsworks.ai ?\n",
    "\n",
    "If you are running your own Hopsworks cluster (not app.hopsworks.ai):\n",
    "\n",
    " * uncomment the cell below\n",
    " * fill in details for your cluster\n",
    " * run the cel"
   ]
  },
  {
   "cell_type": "code",
   "execution_count": 3,
   "id": "2c69ded2",
   "metadata": {},
   "outputs": [],
   "source": [
    "# Uncomment this cell and fill in details if you are running your own Hopsworks cluster\n",
    "#!echo \"xxxx\" > api-key.txt\n",
    "# key=\"\"\n",
    "# with open(\"api-key.txt\", \"r\") as f:\n",
    "#     key = f.read().rstrip()\n",
    "# os.environ['HOPSWORKS_PROJECT']=\"cjsurf\"\n",
    "# os.environ['HOPSWORKS_HOST']=\"35.187.178.84\"\n",
    "# os.environ['HOPSWORKS_API_KEY']=key"
   ]
  },
  {
   "cell_type": "markdown",
   "id": "3cac2729",
   "metadata": {},
   "source": [
    "### Connect to your Hopsworks cluster\n",
    "\n",
    "If you only set the HOPSWORKS_API_KEY, it will assume you are connecting to app.hopsworks.ai.\n",
    "Set HOPSWORKS_HOST and HOPSWORKS_PROJECT environment variables to connect to a different Hopsworks cluster."
   ]
  },
  {
   "cell_type": "code",
   "execution_count": 4,
   "id": "bf7034be",
   "metadata": {},
   "outputs": [
    {
     "name": "stdout",
     "output_type": "stream",
     "text": [
      "Connected. Call `.close()` to terminate connection gracefully.\n",
      "\n",
      "Logged in to project, explore it here https://c.app.hopsworks.ai:443/p/398\n",
      "Connected. Call `.close()` to terminate connection gracefully.\n"
     ]
    }
   ],
   "source": [
    "project = hopsworks.login()\n",
    "fs = project.get_feature_store()"
   ]
  },
  {
   "cell_type": "markdown",
   "id": "083f646b",
   "metadata": {},
   "source": [
    "### Online Transformations for input features\n",
    "\n",
    "Normalize the numerical input features (`height`, `period`, `direction`) with HSFS built-in `standard_scalar`."
   ]
  },
  {
   "cell_type": "code",
   "execution_count": 5,
   "id": "525b4357",
   "metadata": {},
   "outputs": [],
   "source": [
    "hours=119\n",
    "\n",
    "standard_scaler = fs.get_transformation_function(name=\"standard_scaler\")\n",
    "\n",
    "transformation_functions = {\n",
    "    \"height\": standard_scaler,\n",
    "    \"period\": standard_scaler,\n",
    "    \"direction\": standard_scaler,\n",
    "}\n",
    "for i in range(1,hours):\n",
    "    transformation_functions[\"height\" + str(i*2)]=standard_scaler\n",
    "    transformation_functions[\"period\" + str(i*2)]=standard_scaler\n",
    "    transformation_functions[\"direction\" + str(i*2)]=standard_scaler    "
   ]
  },
  {
   "cell_type": "markdown",
   "id": "e3f21635",
   "metadata": {},
   "source": [
    "## Select features for the Feature View\n",
    "\n",
    "Join the `wave_height` from `lahinch` feature group with all of the features from the `swells_exploded` feature group. \n",
    "\n",
    "The `query` object can be inspected - `show` rows, `read` to get a DataFrame."
   ]
  },
  {
   "cell_type": "code",
   "execution_count": 6,
   "id": "29e2b11a",
   "metadata": {},
   "outputs": [],
   "source": [
    "lahinch_fg = fs.get_feature_group(\"lahinch\", version=1)\n",
    "swells_fg = fs.get_feature_group(\"swells_exploded\", version=1)\n",
    "query = lahinch_fg.select(['wave_height']).join(\n",
    "    swells_fg.select_except(['beach_id'])) "
   ]
  },
  {
   "cell_type": "markdown",
   "id": "411a2814",
   "metadata": {},
   "source": [
    "### Get or create the `lahinch_surf` feature view"
   ]
  },
  {
   "cell_type": "code",
   "execution_count": 7,
   "id": "0e467395",
   "metadata": {},
   "outputs": [],
   "source": [
    "version=1\n",
    "try: \n",
    "    fv = fs.get_feature_view(\"lahinch_surf\", version=version)\n",
    "except:\n",
    "    fv = fs.create_feature_view(name='lahinch_surf', \n",
    "                            description=\"Lahinch surf height prediction features\",\n",
    "                            version=version,\n",
    "                            labels=[\"wave_height\"],\n",
    "                            query=query)"
   ]
  },
  {
   "cell_type": "code",
   "execution_count": 8,
   "id": "d23b1202",
   "metadata": {
    "scrolled": true
   },
   "outputs": [],
   "source": [
    "#X_train,y_train,X_test,y_test = fv.train_test_split(0.1)"
   ]
  },
  {
   "cell_type": "markdown",
   "id": "cec3f6cb",
   "metadata": {},
   "source": [
    "### Read your Training Data as Pandas DataFrames\n",
    "You can read back the training data as Pandas Dataframes - here split into train/test sets, with `X_` storing the features and `y_` the labels."
   ]
  },
  {
   "cell_type": "code",
   "execution_count": 9,
   "id": "35e86f0f",
   "metadata": {},
   "outputs": [
    {
     "name": "stdout",
     "output_type": "stream",
     "text": [
      "2022-08-21 16:34:14,919 INFO: USE `dowlingj_featurestore`\n",
      "2022-08-21 16:34:16,247 INFO: WITH right_fg0 AS (SELECT *\n",
      "FROM (SELECT `fg1`.`wave_height` `wave_height`, `fg1`.`beach_id` `join_pk_beach_id`, `fg1`.`observation_time` `join_evt_observation_time`, `fg0`.`pred_dtime` `pred_dtime`, `fg0`.`height` `height`, `fg0`.`period` `period`, `fg0`.`direction` `direction`, RANK() OVER (PARTITION BY `fg1`.`beach_id`, `fg1`.`observation_time` ORDER BY `fg0`.`hits_at` DESC) pit_rank_hopsworks\n",
      "FROM `dowlingj_featurestore`.`lahinch_1` `fg1`\n",
      "INNER JOIN `dowlingj_featurestore`.`swells_exploded_1` `fg0` ON `fg1`.`beach_id` = `fg0`.`beach_id` AND `fg1`.`observation_time` >= `fg0`.`hits_at`) NA\n",
      "WHERE `pit_rank_hopsworks` = 1) (SELECT `right_fg0`.`wave_height` `wave_height`, `right_fg0`.`pred_dtime` `pred_dtime`, `right_fg0`.`height` `height`, `right_fg0`.`period` `period`, `right_fg0`.`direction` `direction`\n",
      "FROM right_fg0)\n"
     ]
    },
    {
     "name": "stderr",
     "output_type": "stream",
     "text": [
      "UserWarning: pandas only support SQLAlchemy connectable(engine/connection) ordatabase string URI or sqlite3 DBAPI2 connectionother DBAPI2 objects are not tested, please consider using SQLAlchemy\n",
      "VersionWarning: Incremented version to `1`.\n"
     ]
    }
   ],
   "source": [
    "X_train, y_train, X_test, y_test = fv.train_test_split(test_size=0.1)"
   ]
  },
  {
   "cell_type": "markdown",
   "id": "ab9aa2ad",
   "metadata": {},
   "source": [
    "Not all of the features are needed for training - only the height, period, direction of the swells with a `hits_at` timestamp that is closest to, but before the observation of the `surf_height`."
   ]
  },
  {
   "cell_type": "code",
   "execution_count": 10,
   "id": "c2fd3fa5",
   "metadata": {},
   "outputs": [
    {
     "data": {
      "text/html": [
       "<div>\n",
       "<style scoped>\n",
       "    .dataframe tbody tr th:only-of-type {\n",
       "        vertical-align: middle;\n",
       "    }\n",
       "\n",
       "    .dataframe tbody tr th {\n",
       "        vertical-align: top;\n",
       "    }\n",
       "\n",
       "    .dataframe thead th {\n",
       "        text-align: right;\n",
       "    }\n",
       "</style>\n",
       "<table border=\"1\" class=\"dataframe\">\n",
       "  <thead>\n",
       "    <tr style=\"text-align: right;\">\n",
       "      <th></th>\n",
       "      <th>height</th>\n",
       "      <th>period</th>\n",
       "      <th>direction</th>\n",
       "    </tr>\n",
       "  </thead>\n",
       "  <tbody>\n",
       "    <tr>\n",
       "      <th>1</th>\n",
       "      <td>9.0</td>\n",
       "      <td>15.0</td>\n",
       "      <td>85</td>\n",
       "    </tr>\n",
       "    <tr>\n",
       "      <th>2</th>\n",
       "      <td>9.7</td>\n",
       "      <td>13.5</td>\n",
       "      <td>91</td>\n",
       "    </tr>\n",
       "    <tr>\n",
       "      <th>4</th>\n",
       "      <td>4.4</td>\n",
       "      <td>9.7</td>\n",
       "      <td>104</td>\n",
       "    </tr>\n",
       "    <tr>\n",
       "      <th>5</th>\n",
       "      <td>4.3</td>\n",
       "      <td>12.9</td>\n",
       "      <td>95</td>\n",
       "    </tr>\n",
       "    <tr>\n",
       "      <th>6</th>\n",
       "      <td>2.7</td>\n",
       "      <td>12.5</td>\n",
       "      <td>81</td>\n",
       "    </tr>\n",
       "    <tr>\n",
       "      <th>...</th>\n",
       "      <td>...</td>\n",
       "      <td>...</td>\n",
       "      <td>...</td>\n",
       "    </tr>\n",
       "    <tr>\n",
       "      <th>344</th>\n",
       "      <td>0.5</td>\n",
       "      <td>6.9</td>\n",
       "      <td>55</td>\n",
       "    </tr>\n",
       "    <tr>\n",
       "      <th>345</th>\n",
       "      <td>2.5</td>\n",
       "      <td>11.5</td>\n",
       "      <td>60</td>\n",
       "    </tr>\n",
       "    <tr>\n",
       "      <th>346</th>\n",
       "      <td>3.1</td>\n",
       "      <td>10.8</td>\n",
       "      <td>57</td>\n",
       "    </tr>\n",
       "    <tr>\n",
       "      <th>347</th>\n",
       "      <td>2.8</td>\n",
       "      <td>11.2</td>\n",
       "      <td>65</td>\n",
       "    </tr>\n",
       "    <tr>\n",
       "      <th>348</th>\n",
       "      <td>3.0</td>\n",
       "      <td>9.9</td>\n",
       "      <td>40</td>\n",
       "    </tr>\n",
       "  </tbody>\n",
       "</table>\n",
       "<p>315 rows × 3 columns</p>\n",
       "</div>"
      ],
      "text/plain": [
       "     height  period  direction\n",
       "1       9.0    15.0         85\n",
       "2       9.7    13.5         91\n",
       "4       4.4     9.7        104\n",
       "5       4.3    12.9         95\n",
       "6       2.7    12.5         81\n",
       "..      ...     ...        ...\n",
       "344     0.5     6.9         55\n",
       "345     2.5    11.5         60\n",
       "346     3.1    10.8         57\n",
       "347     2.8    11.2         65\n",
       "348     3.0     9.9         40\n",
       "\n",
       "[315 rows x 3 columns]"
      ]
     },
     "execution_count": 10,
     "metadata": {},
     "output_type": "execute_result"
    }
   ],
   "source": [
    "X_train = X_train[['height', 'period', 'direction']]\n",
    "X_test = X_test[['height', 'period', 'direction']]\n",
    "X_train"
   ]
  },
  {
   "cell_type": "markdown",
   "id": "14f3930f",
   "metadata": {},
   "source": [
    "Encode the label (`wave_height`) in both the train and test DataFrames"
   ]
  },
  {
   "cell_type": "code",
   "execution_count": 11,
   "id": "7fe7e446",
   "metadata": {},
   "outputs": [],
   "source": [
    "from sklearn import preprocessing\n",
    "le = preprocessing.LabelEncoder()\n",
    "y_train_encoded=le.fit_transform(y_train['wave_height'])\n",
    "y_test_encoded=le.fit_transform(y_test['wave_height'])"
   ]
  },
  {
   "cell_type": "markdown",
   "id": "55409905",
   "metadata": {},
   "source": [
    "## Train the model\n",
    "Using k-nearest neighbors in Scikit-Learn"
   ]
  },
  {
   "cell_type": "code",
   "execution_count": 12,
   "id": "069aa94f",
   "metadata": {},
   "outputs": [
    {
     "data": {
      "text/html": [
       "<style>#sk-container-id-1 {color: black;background-color: white;}#sk-container-id-1 pre{padding: 0;}#sk-container-id-1 div.sk-toggleable {background-color: white;}#sk-container-id-1 label.sk-toggleable__label {cursor: pointer;display: block;width: 100%;margin-bottom: 0;padding: 0.3em;box-sizing: border-box;text-align: center;}#sk-container-id-1 label.sk-toggleable__label-arrow:before {content: \"▸\";float: left;margin-right: 0.25em;color: #696969;}#sk-container-id-1 label.sk-toggleable__label-arrow:hover:before {color: black;}#sk-container-id-1 div.sk-estimator:hover label.sk-toggleable__label-arrow:before {color: black;}#sk-container-id-1 div.sk-toggleable__content {max-height: 0;max-width: 0;overflow: hidden;text-align: left;background-color: #f0f8ff;}#sk-container-id-1 div.sk-toggleable__content pre {margin: 0.2em;color: black;border-radius: 0.25em;background-color: #f0f8ff;}#sk-container-id-1 input.sk-toggleable__control:checked~div.sk-toggleable__content {max-height: 200px;max-width: 100%;overflow: auto;}#sk-container-id-1 input.sk-toggleable__control:checked~label.sk-toggleable__label-arrow:before {content: \"▾\";}#sk-container-id-1 div.sk-estimator input.sk-toggleable__control:checked~label.sk-toggleable__label {background-color: #d4ebff;}#sk-container-id-1 div.sk-label input.sk-toggleable__control:checked~label.sk-toggleable__label {background-color: #d4ebff;}#sk-container-id-1 input.sk-hidden--visually {border: 0;clip: rect(1px 1px 1px 1px);clip: rect(1px, 1px, 1px, 1px);height: 1px;margin: -1px;overflow: hidden;padding: 0;position: absolute;width: 1px;}#sk-container-id-1 div.sk-estimator {font-family: monospace;background-color: #f0f8ff;border: 1px dotted black;border-radius: 0.25em;box-sizing: border-box;margin-bottom: 0.5em;}#sk-container-id-1 div.sk-estimator:hover {background-color: #d4ebff;}#sk-container-id-1 div.sk-parallel-item::after {content: \"\";width: 100%;border-bottom: 1px solid gray;flex-grow: 1;}#sk-container-id-1 div.sk-label:hover label.sk-toggleable__label {background-color: #d4ebff;}#sk-container-id-1 div.sk-serial::before {content: \"\";position: absolute;border-left: 1px solid gray;box-sizing: border-box;top: 0;bottom: 0;left: 50%;z-index: 0;}#sk-container-id-1 div.sk-serial {display: flex;flex-direction: column;align-items: center;background-color: white;padding-right: 0.2em;padding-left: 0.2em;position: relative;}#sk-container-id-1 div.sk-item {position: relative;z-index: 1;}#sk-container-id-1 div.sk-parallel {display: flex;align-items: stretch;justify-content: center;background-color: white;position: relative;}#sk-container-id-1 div.sk-item::before, #sk-container-id-1 div.sk-parallel-item::before {content: \"\";position: absolute;border-left: 1px solid gray;box-sizing: border-box;top: 0;bottom: 0;left: 50%;z-index: -1;}#sk-container-id-1 div.sk-parallel-item {display: flex;flex-direction: column;z-index: 1;position: relative;background-color: white;}#sk-container-id-1 div.sk-parallel-item:first-child::after {align-self: flex-end;width: 50%;}#sk-container-id-1 div.sk-parallel-item:last-child::after {align-self: flex-start;width: 50%;}#sk-container-id-1 div.sk-parallel-item:only-child::after {width: 0;}#sk-container-id-1 div.sk-dashed-wrapped {border: 1px dashed gray;margin: 0 0.4em 0.5em 0.4em;box-sizing: border-box;padding-bottom: 0.4em;background-color: white;}#sk-container-id-1 div.sk-label label {font-family: monospace;font-weight: bold;display: inline-block;line-height: 1.2em;}#sk-container-id-1 div.sk-label-container {text-align: center;}#sk-container-id-1 div.sk-container {/* jupyter's `normalize.less` sets `[hidden] { display: none; }` but bootstrap.min.css set `[hidden] { display: none !important; }` so we also need the `!important` here to be able to override the default hidden behavior on the sphinx rendered scikit-learn.org. See: https://github.com/scikit-learn/scikit-learn/issues/21755 */display: inline-block !important;position: relative;}#sk-container-id-1 div.sk-text-repr-fallback {display: none;}</style><div id=\"sk-container-id-1\" class=\"sk-top-container\"><div class=\"sk-text-repr-fallback\"><pre>KNeighborsClassifier(n_neighbors=3)</pre><b>In a Jupyter environment, please rerun this cell to show the HTML representation or trust the notebook. <br />On GitHub, the HTML representation is unable to render, please try loading this page with nbviewer.org.</b></div><div class=\"sk-container\" hidden><div class=\"sk-item\"><div class=\"sk-estimator sk-toggleable\"><input class=\"sk-toggleable__control sk-hidden--visually\" id=\"sk-estimator-id-1\" type=\"checkbox\" checked><label for=\"sk-estimator-id-1\" class=\"sk-toggleable__label sk-toggleable__label-arrow\">KNeighborsClassifier</label><div class=\"sk-toggleable__content\"><pre>KNeighborsClassifier(n_neighbors=3)</pre></div></div></div></div></div>"
      ],
      "text/plain": [
       "KNeighborsClassifier(n_neighbors=3)"
      ]
     },
     "execution_count": 12,
     "metadata": {},
     "output_type": "execute_result"
    }
   ],
   "source": [
    "model = KNeighborsClassifier(n_neighbors=3)\n",
    "model.fit(X_train,y_train_encoded)"
   ]
  },
  {
   "cell_type": "markdown",
   "id": "60b69bd9",
   "metadata": {},
   "source": [
    "### Evaluate the Model\n",
    "\n",
    "On our test set, calculate the classification scores: precision, recall, fscore.\n",
    "It may also be useful to calculate the rmse to see how close all the predictions were to the true wave_heights."
   ]
  },
  {
   "cell_type": "code",
   "execution_count": 13,
   "id": "12f1b9ed",
   "metadata": {},
   "outputs": [
    {
     "data": {
      "image/png": "[encoded data removed]",
      "text/plain": [
       "<Figure size 432x288 with 1 Axes>"
      ]
     },
     "metadata": {
      "needs_background": "light"
     },
     "output_type": "display_data"
    }
   ],
   "source": [
    "import matplotlib.pyplot as plt\n",
    "from sklearn.metrics import precision_recall_fscore_support, mean_squared_error\n",
    "%matplotlib inline\n",
    "\n",
    "y_pred = model.predict(X_test)\n",
    "\n",
    "precision, recall, fscore, _ = precision_recall_fscore_support(\n",
    "    y_test_encoded, y_pred, average=\"weighted\", zero_division=1)\n",
    "\n",
    "rmse = mean_squared_error(y_test_encoded, y_pred)\n",
    "\n",
    "# We model surf height prediction as a classification problem, as there\n",
    "# only a small number of heights reported on Lahinch beach, but the RMSE\n",
    "# is still a useful metric for evaluating if your model is more accurate or not\n",
    "metrics = {\n",
    "    \"precision\" : precision,\n",
    "    \"recall\" : recall,\n",
    "    \"fscore\" : fscore,\n",
    "    \"rmse\" : rmse\n",
    "}\n",
    "\n",
    "error_rates = []\n",
    "num_samples=len(y_pred)\n",
    "for a in range(1, num_samples):\n",
    "    error_rates.append(np.mean(y_test_encoded[a] - y_pred))\n",
    "\n",
    "plt.plot(range(0,num_samples), y_pred, label=\"predicted\")\n",
    "plt.plot(range(0,num_samples), y_test_encoded, label=\"actual\")\n",
    "plt.title('Surf height predictions')\n",
    "plt.xlabel('Day')\n",
    "plt.ylabel('Height')\n",
    "plt.legend()\n",
    "plt.show()"
   ]
  },
  {
   "cell_type": "markdown",
   "id": "a6b5c29f",
   "metadata": {},
   "source": [
    "## Register the model with Hopsworks Model Registry\n",
    "\n",
    "The model registry stores your model for later use in inference.\n",
    "\n",
    "Here, we also specify the model input/output schema using the DataFrame containing the training features.\n",
    "We also send a dict containing the `metrics` computed in the last cell, as these will be shown for the model in the registry. \n",
    "\n",
    "We can also include a sample to enable a deployed model to be easily tested in the UI. The sample will be stored in the model registry, and when you create a deployment with the model, there is a `Test Model` UI button which will send that sample to the model for scoring, returning the result. It is useful for debugging models.\n",
    "\n",
    "Here, we are creating a `mr.python` model for Scikit-Learn. There is also a `mr.tf` model available for TensorFlow models.\n",
    "When you call `save()` on the model returned by HSML, it uploads the model and any artifacts to Hopsworks.\n"
   ]
  },
  {
   "cell_type": "code",
   "execution_count": 14,
   "id": "f9588cac",
   "metadata": {},
   "outputs": [
    {
     "name": "stdout",
     "output_type": "stream",
     "text": [
      "Connection closed.\n",
      "Connected. Call `.close()` to terminate connection gracefully.\n",
      "\n",
      "Logged in to project, explore it here https://c.app.hopsworks.ai:443/p/398\n",
      "Connected. Call `.close()` to terminate connection gracefully.\n"
     ]
    },
    {
     "data": {
      "application/vnd.jupyter.widget-view+json": {
       "model_id": "0882a0149ce14abeae3c8b94d31ae2f4",
       "version_major": 2,
       "version_minor": 0
      },
      "text/plain": [
       "  0%|          | 0/6 [00:00<?, ?it/s]"
      ]
     },
     "metadata": {},
     "output_type": "display_data"
    },
    {
     "name": "stdout",
     "output_type": "stream",
     "text": [
      "Model created, explore it at https://c.app.hopsworks.ai:443/p/398/models/cjsurf_model/1\n"
     ]
    },
    {
     "data": {
      "text/plain": [
       "Model(name: 'cjsurf_model', version: 1)"
      ]
     },
     "execution_count": 14,
     "metadata": {},
     "output_type": "execute_result"
    }
   ],
   "source": [
    "from hsml.schema import Schema\n",
    "from hsml.model_schema import ModelSchema\n",
    "\n",
    "project = hopsworks.login()\n",
    "\n",
    "mr = project.get_model_registry()\n",
    "joblib.dump(model, 'knn_model.pkl')\n",
    "\n",
    "input_example = X_train.sample()\n",
    "input_schema = Schema(X_train)\n",
    "output_schema = Schema(y_train)\n",
    "model_schema = ModelSchema(input_schema, output_schema)\n",
    "\n",
    "knn_model = mr.python.create_model(\n",
    "    version=1,\n",
    "    name=\"cjsurf_model\", \n",
    "    metrics=metrics,\n",
    "    model_schema=model_schema,\n",
    "    input_example=input_example, description=\"Lahinch Surf height predictions\")\n",
    "\n",
    "knn_model.save(\"knn_model.pkl\")"
   ]
  }
 ],
 "metadata": {
  "kernelspec": {
   "display_name": "Python 3 (ipykernel)",
   "language": "python",
   "name": "python3"
  },
  "language_info": {
   "codemirror_mode": {
    "name": "ipython",
    "version": 3
   },
   "file_extension": ".py",
   "mimetype": "text/x-python",
   "name": "python",
   "nbconvert_exporter": "python",
   "pygments_lexer": "ipython3",
   "version": "3.9.7"
  }
 },
 "nbformat": 4,
 "nbformat_minor": 5
}
